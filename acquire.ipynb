{
 "cells": [
  {
   "cell_type": "code",
   "execution_count": 1,
   "metadata": {},
   "outputs": [],
   "source": [
    "# Import libraries\n",
    "\n",
    "import numpy as np\n",
    "import pandas as pd\n",
    "import matplotlib.pyplot as plt\n",
    "import seaborn as sns\n",
    "\n",
    "import pandas_datareader.data as web\n",
    "\n",
    "import yfinance as yf"
   ]
  },
  {
   "cell_type": "markdown",
   "metadata": {},
   "source": [
    "### Acquire the stock data from Yahoo finance\n",
    "- yf.Ticker().history()\n",
    "- yf.download\n",
    "- pandas data reader"
   ]
  },
  {
   "cell_type": "markdown",
   "metadata": {},
   "source": [
    "**Through `yf.Ticker().history()`**"
   ]
  },
  {
   "cell_type": "code",
   "execution_count": 12,
   "metadata": {
    "scrolled": true
   },
   "outputs": [
    {
     "data": {
      "text/plain": [
       "yfinance.Ticker object <WMT>"
      ]
     },
     "execution_count": 12,
     "metadata": {},
     "output_type": "execute_result"
    }
   ],
   "source": [
    "# Get the Walmrt stock infomation\n",
    "\n",
    "wmt = yf.Ticker(\"WMT\") # the dtype of the wmt is a dictionary\n",
    "wmt # Return a Ticker object"
   ]
  },
  {
   "cell_type": "code",
   "execution_count": 6,
   "metadata": {},
   "outputs": [
    {
     "data": {
      "text/html": [
       "<div>\n",
       "<style scoped>\n",
       "    .dataframe tbody tr th:only-of-type {\n",
       "        vertical-align: middle;\n",
       "    }\n",
       "\n",
       "    .dataframe tbody tr th {\n",
       "        vertical-align: top;\n",
       "    }\n",
       "\n",
       "    .dataframe thead th {\n",
       "        text-align: right;\n",
       "    }\n",
       "</style>\n",
       "<table border=\"1\" class=\"dataframe\">\n",
       "  <thead>\n",
       "    <tr style=\"text-align: right;\">\n",
       "      <th></th>\n",
       "      <th>Open</th>\n",
       "      <th>High</th>\n",
       "      <th>Low</th>\n",
       "      <th>Close</th>\n",
       "      <th>Volume</th>\n",
       "      <th>Dividends</th>\n",
       "      <th>Stock Splits</th>\n",
       "    </tr>\n",
       "    <tr>\n",
       "      <th>Date</th>\n",
       "      <th></th>\n",
       "      <th></th>\n",
       "      <th></th>\n",
       "      <th></th>\n",
       "      <th></th>\n",
       "      <th></th>\n",
       "      <th></th>\n",
       "    </tr>\n",
       "  </thead>\n",
       "  <tbody>\n",
       "    <tr>\n",
       "      <th>2020-11-30</th>\n",
       "      <td>151.600006</td>\n",
       "      <td>152.949997</td>\n",
       "      <td>150.100006</td>\n",
       "      <td>152.789993</td>\n",
       "      <td>10898500</td>\n",
       "      <td>0</td>\n",
       "      <td>0</td>\n",
       "    </tr>\n",
       "    <tr>\n",
       "      <th>2020-12-01</th>\n",
       "      <td>153.600006</td>\n",
       "      <td>153.660004</td>\n",
       "      <td>151.660004</td>\n",
       "      <td>152.639999</td>\n",
       "      <td>7647100</td>\n",
       "      <td>0</td>\n",
       "      <td>0</td>\n",
       "    </tr>\n",
       "    <tr>\n",
       "      <th>2020-12-02</th>\n",
       "      <td>152.000000</td>\n",
       "      <td>152.619995</td>\n",
       "      <td>149.529999</td>\n",
       "      <td>150.520004</td>\n",
       "      <td>7849000</td>\n",
       "      <td>0</td>\n",
       "      <td>0</td>\n",
       "    </tr>\n",
       "    <tr>\n",
       "      <th>2020-12-03</th>\n",
       "      <td>150.279999</td>\n",
       "      <td>150.279999</td>\n",
       "      <td>148.389999</td>\n",
       "      <td>149.300003</td>\n",
       "      <td>8571900</td>\n",
       "      <td>0</td>\n",
       "      <td>0</td>\n",
       "    </tr>\n",
       "    <tr>\n",
       "      <th>2020-12-04</th>\n",
       "      <td>149.509995</td>\n",
       "      <td>149.453705</td>\n",
       "      <td>147.589996</td>\n",
       "      <td>147.919998</td>\n",
       "      <td>2794480</td>\n",
       "      <td>0</td>\n",
       "      <td>0</td>\n",
       "    </tr>\n",
       "  </tbody>\n",
       "</table>\n",
       "</div>"
      ],
      "text/plain": [
       "                  Open        High         Low       Close    Volume  \\\n",
       "Date                                                                   \n",
       "2020-11-30  151.600006  152.949997  150.100006  152.789993  10898500   \n",
       "2020-12-01  153.600006  153.660004  151.660004  152.639999   7647100   \n",
       "2020-12-02  152.000000  152.619995  149.529999  150.520004   7849000   \n",
       "2020-12-03  150.279999  150.279999  148.389999  149.300003   8571900   \n",
       "2020-12-04  149.509995  149.453705  147.589996  147.919998   2794480   \n",
       "\n",
       "            Dividends  Stock Splits  \n",
       "Date                                 \n",
       "2020-11-30          0             0  \n",
       "2020-12-01          0             0  \n",
       "2020-12-02          0             0  \n",
       "2020-12-03          0             0  \n",
       "2020-12-04          0             0  "
      ]
     },
     "execution_count": 6,
     "metadata": {},
     "output_type": "execute_result"
    }
   ],
   "source": [
    "# Get market data in the past 5 days\n",
    "\n",
    "hist = wmt.history(period=\"5d\")\n",
    "hist.head()"
   ]
  },
  {
   "cell_type": "markdown",
   "metadata": {},
   "source": [
    "**Takeaways**\n",
    "- The dtypes of the index is datetime.\n",
    "- Don't have the adjusted close price.\n",
    "- Doesn't support fetching data from multiple tickers."
   ]
  },
  {
   "cell_type": "markdown",
   "metadata": {},
   "source": [
    "**Fetching data for multiple tickers using `yf.download()`**"
   ]
  },
  {
   "cell_type": "code",
   "execution_count": 33,
   "metadata": {},
   "outputs": [
    {
     "name": "stdout",
     "output_type": "stream",
     "text": [
      "[*********************100%***********************]  6 of 6 completed\n"
     ]
    },
    {
     "data": {
      "text/html": [
       "<div>\n",
       "<style scoped>\n",
       "    .dataframe tbody tr th:only-of-type {\n",
       "        vertical-align: middle;\n",
       "    }\n",
       "\n",
       "    .dataframe tbody tr th {\n",
       "        vertical-align: top;\n",
       "    }\n",
       "\n",
       "    .dataframe thead th {\n",
       "        text-align: right;\n",
       "    }\n",
       "</style>\n",
       "<table border=\"1\" class=\"dataframe\">\n",
       "  <thead>\n",
       "    <tr style=\"text-align: right;\">\n",
       "      <th></th>\n",
       "      <th>AAPL</th>\n",
       "      <th>AMZN</th>\n",
       "      <th>DB</th>\n",
       "      <th>GE</th>\n",
       "      <th>TSLA</th>\n",
       "      <th>WMT</th>\n",
       "    </tr>\n",
       "    <tr>\n",
       "      <th>Date</th>\n",
       "      <th></th>\n",
       "      <th></th>\n",
       "      <th></th>\n",
       "      <th></th>\n",
       "      <th></th>\n",
       "      <th></th>\n",
       "    </tr>\n",
       "  </thead>\n",
       "  <tbody>\n",
       "    <tr>\n",
       "      <th>2020-12-01</th>\n",
       "      <td>122.720001</td>\n",
       "      <td>3220.080078</td>\n",
       "      <td>11.45</td>\n",
       "      <td>10.15</td>\n",
       "      <td>584.760010</td>\n",
       "      <td>152.639999</td>\n",
       "    </tr>\n",
       "    <tr>\n",
       "      <th>2020-12-02</th>\n",
       "      <td>123.080002</td>\n",
       "      <td>3203.530029</td>\n",
       "      <td>11.58</td>\n",
       "      <td>10.43</td>\n",
       "      <td>568.820007</td>\n",
       "      <td>150.520004</td>\n",
       "    </tr>\n",
       "    <tr>\n",
       "      <th>2020-12-03</th>\n",
       "      <td>122.940002</td>\n",
       "      <td>3186.729980</td>\n",
       "      <td>11.77</td>\n",
       "      <td>10.60</td>\n",
       "      <td>593.380005</td>\n",
       "      <td>149.300003</td>\n",
       "    </tr>\n",
       "  </tbody>\n",
       "</table>\n",
       "</div>"
      ],
      "text/plain": [
       "                  AAPL         AMZN     DB     GE        TSLA         WMT\n",
       "Date                                                                     \n",
       "2020-12-01  122.720001  3220.080078  11.45  10.15  584.760010  152.639999\n",
       "2020-12-02  123.080002  3203.530029  11.58  10.43  568.820007  150.520004\n",
       "2020-12-03  122.940002  3186.729980  11.77  10.60  593.380005  149.300003"
      ]
     },
     "execution_count": 33,
     "metadata": {},
     "output_type": "execute_result"
    }
   ],
   "source": [
    "# Create a string of multiple tickers\n",
    "tickers = 'AAPL WMT TSLA GE AMZN DB'\n",
    "\n",
    "# Acquire the adjusted closing price\n",
    "\n",
    "data = yf.download(tickers, '2020-12-01', '2020-12-04')['Adj Close']\n",
    "data"
   ]
  },
  {
   "cell_type": "markdown",
   "metadata": {},
   "source": [
    "**Takeaways**\n",
    "- The order of the stocks changes to alphabetical order.\n",
    "- The last day in the downloaded data is the previous day of end_date inputted in the yf.download method.  "
   ]
  },
  {
   "cell_type": "markdown",
   "metadata": {},
   "source": [
    "**Use pandas datareader to read stock data from yahoo finance**"
   ]
  },
  {
   "cell_type": "code",
   "execution_count": 34,
   "metadata": {
    "scrolled": true
   },
   "outputs": [
    {
     "data": {
      "text/html": [
       "<div>\n",
       "<style scoped>\n",
       "    .dataframe tbody tr th:only-of-type {\n",
       "        vertical-align: middle;\n",
       "    }\n",
       "\n",
       "    .dataframe tbody tr th {\n",
       "        vertical-align: top;\n",
       "    }\n",
       "\n",
       "    .dataframe thead th {\n",
       "        text-align: right;\n",
       "    }\n",
       "</style>\n",
       "<table border=\"1\" class=\"dataframe\">\n",
       "  <thead>\n",
       "    <tr style=\"text-align: right;\">\n",
       "      <th>Symbols</th>\n",
       "      <th>AAPL</th>\n",
       "      <th>WMT</th>\n",
       "      <th>TSLA</th>\n",
       "      <th>GE</th>\n",
       "      <th>AMZN</th>\n",
       "      <th>DB</th>\n",
       "    </tr>\n",
       "    <tr>\n",
       "      <th>Date</th>\n",
       "      <th></th>\n",
       "      <th></th>\n",
       "      <th></th>\n",
       "      <th></th>\n",
       "      <th></th>\n",
       "      <th></th>\n",
       "    </tr>\n",
       "  </thead>\n",
       "  <tbody>\n",
       "    <tr>\n",
       "      <th>2020-12-01</th>\n",
       "      <td>122.720001</td>\n",
       "      <td>152.639999</td>\n",
       "      <td>584.760010</td>\n",
       "      <td>10.15</td>\n",
       "      <td>3220.080078</td>\n",
       "      <td>11.45</td>\n",
       "    </tr>\n",
       "    <tr>\n",
       "      <th>2020-12-02</th>\n",
       "      <td>123.080002</td>\n",
       "      <td>150.520004</td>\n",
       "      <td>568.820007</td>\n",
       "      <td>10.43</td>\n",
       "      <td>3203.530029</td>\n",
       "      <td>11.58</td>\n",
       "    </tr>\n",
       "    <tr>\n",
       "      <th>2020-12-03</th>\n",
       "      <td>122.940002</td>\n",
       "      <td>149.300003</td>\n",
       "      <td>593.380005</td>\n",
       "      <td>10.60</td>\n",
       "      <td>3186.729980</td>\n",
       "      <td>11.77</td>\n",
       "    </tr>\n",
       "  </tbody>\n",
       "</table>\n",
       "</div>"
      ],
      "text/plain": [
       "Symbols           AAPL         WMT        TSLA     GE         AMZN     DB\n",
       "Date                                                                     \n",
       "2020-12-01  122.720001  152.639999  584.760010  10.15  3220.080078  11.45\n",
       "2020-12-02  123.080002  150.520004  568.820007  10.43  3203.530029  11.58\n",
       "2020-12-03  122.940002  149.300003  593.380005  10.60  3186.729980  11.77"
      ]
     },
     "execution_count": 34,
     "metadata": {},
     "output_type": "execute_result"
    }
   ],
   "source": [
    "# Create a list of the stocks you are interested\n",
    "stocks = ['AAPL', 'WMT', 'TSLA', 'GE', 'AMZN', 'DB']\n",
    "\n",
    "# Specify the start date and end date\n",
    "\n",
    "start_date = '2020-12-01'\n",
    "end_date = '2020-12-03'\n",
    "\n",
    "# Acquire the data\n",
    "data = web.DataReader(stocks, data_source='yahoo', start=start_date, end=end_date)['Adj Close']\n",
    "data"
   ]
  },
  {
   "cell_type": "code",
   "execution_count": 35,
   "metadata": {},
   "outputs": [
    {
     "data": {
      "text/html": [
       "<div>\n",
       "<style scoped>\n",
       "    .dataframe tbody tr th:only-of-type {\n",
       "        vertical-align: middle;\n",
       "    }\n",
       "\n",
       "    .dataframe tbody tr th {\n",
       "        vertical-align: top;\n",
       "    }\n",
       "\n",
       "    .dataframe thead th {\n",
       "        text-align: right;\n",
       "    }\n",
       "</style>\n",
       "<table border=\"1\" class=\"dataframe\">\n",
       "  <thead>\n",
       "    <tr style=\"text-align: right;\">\n",
       "      <th></th>\n",
       "      <th>AAPL</th>\n",
       "      <th>WMT</th>\n",
       "      <th>TSLA</th>\n",
       "      <th>GE</th>\n",
       "      <th>AMZN</th>\n",
       "      <th>DB</th>\n",
       "    </tr>\n",
       "    <tr>\n",
       "      <th>Date</th>\n",
       "      <th></th>\n",
       "      <th></th>\n",
       "      <th></th>\n",
       "      <th></th>\n",
       "      <th></th>\n",
       "      <th></th>\n",
       "    </tr>\n",
       "  </thead>\n",
       "  <tbody>\n",
       "    <tr>\n",
       "      <th>2020-12-01</th>\n",
       "      <td>122.720001</td>\n",
       "      <td>152.639999</td>\n",
       "      <td>584.760010</td>\n",
       "      <td>10.15</td>\n",
       "      <td>3220.080078</td>\n",
       "      <td>11.45</td>\n",
       "    </tr>\n",
       "    <tr>\n",
       "      <th>2020-12-02</th>\n",
       "      <td>123.080002</td>\n",
       "      <td>150.520004</td>\n",
       "      <td>568.820007</td>\n",
       "      <td>10.43</td>\n",
       "      <td>3203.530029</td>\n",
       "      <td>11.58</td>\n",
       "    </tr>\n",
       "    <tr>\n",
       "      <th>2020-12-03</th>\n",
       "      <td>122.940002</td>\n",
       "      <td>149.300003</td>\n",
       "      <td>593.380005</td>\n",
       "      <td>10.60</td>\n",
       "      <td>3186.729980</td>\n",
       "      <td>11.77</td>\n",
       "    </tr>\n",
       "  </tbody>\n",
       "</table>\n",
       "</div>"
      ],
      "text/plain": [
       "                  AAPL         WMT        TSLA     GE         AMZN     DB\n",
       "Date                                                                     \n",
       "2020-12-01  122.720001  152.639999  584.760010  10.15  3220.080078  11.45\n",
       "2020-12-02  123.080002  150.520004  568.820007  10.43  3203.530029  11.58\n",
       "2020-12-03  122.940002  149.300003  593.380005  10.60  3186.729980  11.77"
      ]
     },
     "execution_count": 35,
     "metadata": {},
     "output_type": "execute_result"
    }
   ],
   "source": [
    "# Rename the columns\n",
    "\n",
    "data.columns = stocks\n",
    "data"
   ]
  },
  {
   "cell_type": "markdown",
   "metadata": {},
   "source": [
    "**Takeaways**\n",
    "- Take a little bit longer than the yf.download.\n",
    "- The order of the stocks remain the same in the dataframe. "
   ]
  },
  {
   "cell_type": "markdown",
   "metadata": {},
   "source": [
    "**Build the helper function to fetch the data**"
   ]
  },
  {
   "cell_type": "code",
   "execution_count": null,
   "metadata": {},
   "outputs": [],
   "source": []
  }
 ],
 "metadata": {
  "kernelspec": {
   "display_name": "Python 3",
   "language": "python",
   "name": "python3"
  },
  "language_info": {
   "codemirror_mode": {
    "name": "ipython",
    "version": 3
   },
   "file_extension": ".py",
   "mimetype": "text/x-python",
   "name": "python",
   "nbconvert_exporter": "python",
   "pygments_lexer": "ipython3",
   "version": "3.7.6"
  }
 },
 "nbformat": 4,
 "nbformat_minor": 4
}
