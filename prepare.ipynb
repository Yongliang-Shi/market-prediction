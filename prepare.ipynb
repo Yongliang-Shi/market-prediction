{
 "cells": [
  {
   "cell_type": "code",
   "execution_count": 3,
   "metadata": {},
   "outputs": [],
   "source": [
    "# General Imports\n",
    "import numpy as np\n",
    "import pandas as pd\n",
    "import matplotlib.pyplot as plt\n",
    "import seaborn as sns\n",
    "\n",
    "# Files for Acquiring and Preparation\n",
    "import acquire\n",
    "\n",
    "# Warnings\n",
    "import warnings\n",
    "warnings.filterwarnings(\"ignore\")"
   ]
  },
  {
   "cell_type": "code",
   "execution_count": 8,
   "metadata": {},
   "outputs": [
    {
     "name": "stdout",
     "output_type": "stream",
     "text": [
      "<class 'pandas.core.frame.DataFrame'>\n",
      "RangeIndex: 2390491 entries, 0 to 2390490\n",
      "Columns: 138 entries, date to ts_id\n",
      "dtypes: float32(135), int32(3)\n",
      "memory usage: 1.2 GB\n",
      "CPU times: user 54.1 s, sys: 14.2 s, total: 1min 8s\n",
      "Wall time: 1min 13s\n"
     ]
    },
    {
     "data": {
      "text/plain": [
       "(2390491, 138)"
      ]
     },
     "execution_count": 8,
     "metadata": {},
     "output_type": "execute_result"
    }
   ],
   "source": [
    "%%time\n",
    "\n",
    "# Acquire the training dataset\n",
    "df_train = acquire.load_jane_street_train()\n",
    "\n",
    "# Print the concise summary of df_train\n",
    "df_train.info()\n",
    "\n",
    "# Print the dimensionality of the df_train\n",
    "df_train.shape"
   ]
  },
  {
   "cell_type": "markdown",
   "metadata": {},
   "source": [
    "**Takeaways**\n",
    "1. All the values in the dataframe are numeric.\n",
    "2. The dataframe contains more than 2 million records and 138 columns."
   ]
  },
  {
   "cell_type": "code",
   "execution_count": 55,
   "metadata": {
    "scrolled": false
   },
   "outputs": [
    {
     "name": "stdout",
     "output_type": "stream",
     "text": [
      "CPU times: user 435 ms, sys: 119 ms, total: 554 ms\n",
      "Wall time: 560 ms\n"
     ]
    },
    {
     "data": {
      "text/html": [
       "<div>\n",
       "<style scoped>\n",
       "    .dataframe tbody tr th:only-of-type {\n",
       "        vertical-align: middle;\n",
       "    }\n",
       "\n",
       "    .dataframe tbody tr th {\n",
       "        vertical-align: top;\n",
       "    }\n",
       "\n",
       "    .dataframe thead th {\n",
       "        text-align: right;\n",
       "    }\n",
       "</style>\n",
       "<table border=\"1\" class=\"dataframe\">\n",
       "  <thead>\n",
       "    <tr style=\"text-align: right;\">\n",
       "      <th></th>\n",
       "      <th>num_row_missing</th>\n",
       "      <th>pct_rows_missing</th>\n",
       "    </tr>\n",
       "  </thead>\n",
       "  <tbody>\n",
       "    <tr>\n",
       "      <th>feature_28</th>\n",
       "      <td>395535</td>\n",
       "      <td>0.165</td>\n",
       "    </tr>\n",
       "    <tr>\n",
       "      <th>feature_18</th>\n",
       "      <td>395535</td>\n",
       "      <td>0.165</td>\n",
       "    </tr>\n",
       "    <tr>\n",
       "      <th>feature_17</th>\n",
       "      <td>395535</td>\n",
       "      <td>0.165</td>\n",
       "    </tr>\n",
       "    <tr>\n",
       "      <th>feature_27</th>\n",
       "      <td>395535</td>\n",
       "      <td>0.165</td>\n",
       "    </tr>\n",
       "    <tr>\n",
       "      <th>feature_7</th>\n",
       "      <td>393135</td>\n",
       "      <td>0.164</td>\n",
       "    </tr>\n",
       "    <tr>\n",
       "      <th>...</th>\n",
       "      <td>...</td>\n",
       "      <td>...</td>\n",
       "    </tr>\n",
       "    <tr>\n",
       "      <th>feature_73</th>\n",
       "      <td>788</td>\n",
       "      <td>0.000</td>\n",
       "    </tr>\n",
       "    <tr>\n",
       "      <th>feature_4</th>\n",
       "      <td>448</td>\n",
       "      <td>0.000</td>\n",
       "    </tr>\n",
       "    <tr>\n",
       "      <th>feature_85</th>\n",
       "      <td>788</td>\n",
       "      <td>0.000</td>\n",
       "    </tr>\n",
       "    <tr>\n",
       "      <th>feature_91</th>\n",
       "      <td>788</td>\n",
       "      <td>0.000</td>\n",
       "    </tr>\n",
       "    <tr>\n",
       "      <th>feature_79</th>\n",
       "      <td>788</td>\n",
       "      <td>0.000</td>\n",
       "    </tr>\n",
       "  </tbody>\n",
       "</table>\n",
       "<p>88 rows × 2 columns</p>\n",
       "</div>"
      ],
      "text/plain": [
       "            num_row_missing  pct_rows_missing\n",
       "feature_28           395535             0.165\n",
       "feature_18           395535             0.165\n",
       "feature_17           395535             0.165\n",
       "feature_27           395535             0.165\n",
       "feature_7            393135             0.164\n",
       "...                     ...               ...\n",
       "feature_73              788             0.000\n",
       "feature_4               448             0.000\n",
       "feature_85              788             0.000\n",
       "feature_91              788             0.000\n",
       "feature_79              788             0.000\n",
       "\n",
       "[88 rows x 2 columns]"
      ]
     },
     "execution_count": 55,
     "metadata": {},
     "output_type": "execute_result"
    }
   ],
   "source": [
    "%%time\n",
    "\n",
    "# Detect and count missing values in columns\n",
    "nulls_in_cols = df_train.isnull().sum(axis=0)\n",
    "\n",
    "# Converted to pandas dataframe\n",
    "nulls_in_cols = pd.DataFrame(nulls_in_cols, columns=['num_row_missing'])\n",
    "\n",
    "# Create a mask when a column has missing values\n",
    "mask = (nulls_in_cols['num_row_missing'] !=0)\n",
    "\n",
    "# Return the columns that contains missing values\n",
    "nulls_in_cols = nulls_in_cols[mask]\n",
    "\n",
    "# Add a column for the percent of the missing values\n",
    "nulls_in_cols['pct_rows_missing'] = round(nulls_in_cols.num_row_missing/df_train.shape[0]\n",
    "                                          , 3)\n",
    "\n",
    "# Order the columns in decending order based on the percent\n",
    "nulls_in_cols.sort_values(by='pct_rows_missing', ascending=False, inplace=True)\n",
    "nulls_in_cols"
   ]
  },
  {
   "cell_type": "code",
   "execution_count": 52,
   "metadata": {},
   "outputs": [
    {
     "data": {
      "image/png": "[encoded data removed]",
      "text/plain": [
       "<Figure size 432x288 with 1 Axes>"
      ]
     },
     "metadata": {
      "needs_background": "light"
     },
     "output_type": "display_data"
    }
   ],
   "source": [
    "# Plot the distribution of the features\n",
    "\n",
    "nulls_in_cols.percent.plot(kind='hist')\n",
    "plt.title(\"Columns having missing values are grouped into two sets\")\n",
    "plt.xlabel(\"Percent of missing values\")\n",
    "plt.axvline(x=0.100, ls='--')\n",
    "plt.show()"
   ]
  },
  {
   "cell_type": "code",
   "execution_count": 49,
   "metadata": {},
   "outputs": [
    {
     "data": {
      "text/plain": [
       "14"
      ]
     },
     "execution_count": 49,
     "metadata": {},
     "output_type": "execute_result"
    }
   ],
   "source": [
    "# Count the number of columns in which the missing values is greater than 0.1%\n",
    "(nulls_in_cols.percent > 0.1).sum()"
   ]
  },
  {
   "cell_type": "code",
   "execution_count": 50,
   "metadata": {},
   "outputs": [
    {
     "data": {
      "text/plain": [
       "74"
      ]
     },
     "execution_count": 50,
     "metadata": {},
     "output_type": "execute_result"
    }
   ],
   "source": [
    "# Count the number of columns in which the missing values is less than 0.1% \n",
    "(nulls_in_cols.percent < 0.1).sum()"
   ]
  },
  {
   "cell_type": "markdown",
   "metadata": {},
   "source": [
    "**Takeaways**\n",
    "1. Missng values are found in 88 columns. \n",
    "2. 14 columns miss more than 0.1% of their values and 74 columns miss less than 0.1%. \n",
    "3. XGBoost can handle missing values without an imputation preprocessing. "
   ]
  }
 ],
 "metadata": {
  "kernelspec": {
   "display_name": "Python 3",
   "language": "python",
   "name": "python3"
  },
  "language_info": {
   "codemirror_mode": {
    "name": "ipython",
    "version": 3
   },
   "file_extension": ".py",
   "mimetype": "text/x-python",
   "name": "python",
   "nbconvert_exporter": "python",
   "pygments_lexer": "ipython3",
   "version": "3.7.6"
  }
 },
 "nbformat": 4,
 "nbformat_minor": 4
}
