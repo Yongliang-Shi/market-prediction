{
 "cells": [
  {
   "cell_type": "markdown",
   "metadata": {},
   "source": [
    "## Goal 1: Follow the ARK Daily Trade\n",
    "## Goal 2: Analyze the Holdings of ARK ETFs"
   ]
  },
  {
   "cell_type": "code",
   "execution_count": 1,
   "metadata": {},
   "outputs": [],
   "source": [
    "# General Imports\n",
    "import numpy as np\n",
    "import pandas as pd\n",
    "import matplotlib.pyplot as plt\n",
    "import seaborn as sns\n",
    "\n",
    "# Datetime Library\n",
    "from datetime import date\n",
    "\n",
    "import scipy.optimize as optimization\n",
    "from itertools import combinations\n",
    "\n",
    "# Helper Functions\n",
    "import acquire, prepare, explore, optimal_weights\n",
    "\n",
    "# Environment File\n",
    "import env\n",
    "\n",
    "# Create A Progressive Bar for Loop Operation \n",
    "from tqdm.notebook import tqdm\n",
    "\n",
    "# Warnings\n",
    "import warnings\n",
    "warnings.filterwarnings(\"ignore\")\n",
    "\n",
    "# Load the file path\n",
    "tradedb = env.arktradedb"
   ]
  },
  {
   "cell_type": "markdown",
   "metadata": {},
   "source": [
    "### Acquire the portfolio adjustments table"
   ]
  },
  {
   "cell_type": "code",
   "execution_count": 7,
   "metadata": {},
   "outputs": [
    {
     "name": "stdout",
     "output_type": "stream",
     "text": [
      "<class 'pandas.core.frame.DataFrame'>\n",
      "RangeIndex: 49 entries, 0 to 48\n",
      "Data columns (total 9 columns):\n",
      " #   Column                                                          Non-Null Count  Dtype  \n",
      "---  ------                                                          --------------  -----  \n",
      " 0   INTRA-DAY TRADE TO TOTAL FUND HOLDINGS (NOT INDIVIDUAL BASKET)  48 non-null     object \n",
      " 1   Unnamed: 1                                                      47 non-null     object \n",
      " 2   Unnamed: 2                                                      47 non-null     object \n",
      " 3   Unnamed: 3                                                      47 non-null     object \n",
      " 4   Unnamed: 4                                                      47 non-null     object \n",
      " 5   Unnamed: 5                                                      47 non-null     object \n",
      " 6   Unnamed: 6                                                      47 non-null     object \n",
      " 7   Unnamed: 7                                                      47 non-null     object \n",
      " 8   Unnamed: 8                                                      0 non-null      float64\n",
      "dtypes: float64(1), object(8)\n",
      "memory usage: 3.6+ KB\n"
     ]
    }
   ],
   "source": [
    "# Read the portfolio adjustment on 071621\n",
    "\n",
    "df = pd.read_csv(f\"{tradedb}ARK_Trade_07302021.csv\")\n",
    "df.info()"
   ]
  },
  {
   "cell_type": "code",
   "execution_count": 8,
   "metadata": {},
   "outputs": [
    {
     "data": {
      "text/html": [
       "<div>\n",
       "<style scoped>\n",
       "    .dataframe tbody tr th:only-of-type {\n",
       "        vertical-align: middle;\n",
       "    }\n",
       "\n",
       "    .dataframe tbody tr th {\n",
       "        vertical-align: top;\n",
       "    }\n",
       "\n",
       "    .dataframe thead th {\n",
       "        text-align: right;\n",
       "    }\n",
       "</style>\n",
       "<table border=\"1\" class=\"dataframe\">\n",
       "  <thead>\n",
       "    <tr style=\"text-align: right;\">\n",
       "      <th></th>\n",
       "      <th>INTRA-DAY TRADE TO TOTAL FUND HOLDINGS (NOT INDIVIDUAL BASKET)</th>\n",
       "      <th>Unnamed: 1</th>\n",
       "      <th>Unnamed: 2</th>\n",
       "      <th>Unnamed: 3</th>\n",
       "      <th>Unnamed: 4</th>\n",
       "      <th>Unnamed: 5</th>\n",
       "      <th>Unnamed: 6</th>\n",
       "      <th>Unnamed: 7</th>\n",
       "      <th>Unnamed: 8</th>\n",
       "    </tr>\n",
       "  </thead>\n",
       "  <tbody>\n",
       "    <tr>\n",
       "      <th>0</th>\n",
       "      <td>ARK offers fully transparent Exchange Traded F...</td>\n",
       "      <td>NaN</td>\n",
       "      <td>NaN</td>\n",
       "      <td>NaN</td>\n",
       "      <td>NaN</td>\n",
       "      <td>NaN</td>\n",
       "      <td>NaN</td>\n",
       "      <td>NaN</td>\n",
       "      <td>NaN</td>\n",
       "    </tr>\n",
       "    <tr>\n",
       "      <th>1</th>\n",
       "      <td>NaN</td>\n",
       "      <td>NaN</td>\n",
       "      <td>NaN</td>\n",
       "      <td>NaN</td>\n",
       "      <td>NaN</td>\n",
       "      <td>NaN</td>\n",
       "      <td>NaN</td>\n",
       "      <td>NaN</td>\n",
       "      <td>NaN</td>\n",
       "    </tr>\n",
       "    <tr>\n",
       "      <th>2</th>\n",
       "      <td>FUND</td>\n",
       "      <td>Date</td>\n",
       "      <td>Direction</td>\n",
       "      <td>Ticker</td>\n",
       "      <td>CUSIP</td>\n",
       "      <td>Name</td>\n",
       "      <td>Shares</td>\n",
       "      <td>% of ETF</td>\n",
       "      <td>NaN</td>\n",
       "    </tr>\n",
       "    <tr>\n",
       "      <th>3</th>\n",
       "      <td>ARKF</td>\n",
       "      <td>7/30/21</td>\n",
       "      <td>Buy</td>\n",
       "      <td>HOOD</td>\n",
       "      <td>770700102</td>\n",
       "      <td>ROBINHOOD MARKETS INC</td>\n",
       "      <td>213,484</td>\n",
       "      <td>0.1964</td>\n",
       "      <td>NaN</td>\n",
       "    </tr>\n",
       "    <tr>\n",
       "      <th>4</th>\n",
       "      <td>ARKF</td>\n",
       "      <td>7/30/21</td>\n",
       "      <td>Buy</td>\n",
       "      <td>PINS</td>\n",
       "      <td>72352L106</td>\n",
       "      <td>PINTEREST INC</td>\n",
       "      <td>151,929</td>\n",
       "      <td>0.2449</td>\n",
       "      <td>NaN</td>\n",
       "    </tr>\n",
       "  </tbody>\n",
       "</table>\n",
       "</div>"
      ],
      "text/plain": [
       "  INTRA-DAY TRADE TO TOTAL FUND HOLDINGS (NOT INDIVIDUAL BASKET) Unnamed: 1  \\\n",
       "0  ARK offers fully transparent Exchange Traded F...                    NaN   \n",
       "1                                                NaN                    NaN   \n",
       "2                                               FUND                   Date   \n",
       "3                                               ARKF                7/30/21   \n",
       "4                                               ARKF                7/30/21   \n",
       "\n",
       "  Unnamed: 2 Unnamed: 3 Unnamed: 4             Unnamed: 5 Unnamed: 6  \\\n",
       "0        NaN        NaN        NaN                    NaN        NaN   \n",
       "1        NaN        NaN        NaN                    NaN        NaN   \n",
       "2  Direction     Ticker      CUSIP                   Name     Shares   \n",
       "3        Buy       HOOD  770700102  ROBINHOOD MARKETS INC    213,484   \n",
       "4        Buy       PINS  72352L106          PINTEREST INC    151,929   \n",
       "\n",
       "  Unnamed: 7  Unnamed: 8  \n",
       "0        NaN         NaN  \n",
       "1        NaN         NaN  \n",
       "2   % of ETF         NaN  \n",
       "3     0.1964         NaN  \n",
       "4     0.2449         NaN  "
      ]
     },
     "execution_count": 8,
     "metadata": {},
     "output_type": "execute_result"
    }
   ],
   "source": [
    "# Print the first 5 rows\n",
    "df.head()"
   ]
  },
  {
   "cell_type": "markdown",
   "metadata": {},
   "source": [
    "### Clean the daily portfolio adjustments table"
   ]
  },
  {
   "cell_type": "code",
   "execution_count": 9,
   "metadata": {},
   "outputs": [
    {
     "data": {
      "text/html": [
       "<div>\n",
       "<style scoped>\n",
       "    .dataframe tbody tr th:only-of-type {\n",
       "        vertical-align: middle;\n",
       "    }\n",
       "\n",
       "    .dataframe tbody tr th {\n",
       "        vertical-align: top;\n",
       "    }\n",
       "\n",
       "    .dataframe thead th {\n",
       "        text-align: right;\n",
       "    }\n",
       "</style>\n",
       "<table border=\"1\" class=\"dataframe\">\n",
       "  <thead>\n",
       "    <tr style=\"text-align: right;\">\n",
       "      <th></th>\n",
       "      <th>INTRA-DAY TRADE TO TOTAL FUND HOLDINGS (NOT INDIVIDUAL BASKET)</th>\n",
       "      <th>Unnamed: 1</th>\n",
       "      <th>Unnamed: 2</th>\n",
       "      <th>Unnamed: 3</th>\n",
       "      <th>Unnamed: 4</th>\n",
       "      <th>Unnamed: 5</th>\n",
       "      <th>Unnamed: 6</th>\n",
       "      <th>Unnamed: 7</th>\n",
       "      <th>Unnamed: 8</th>\n",
       "    </tr>\n",
       "  </thead>\n",
       "  <tbody>\n",
       "    <tr>\n",
       "      <th>2</th>\n",
       "      <td>FUND</td>\n",
       "      <td>Date</td>\n",
       "      <td>Direction</td>\n",
       "      <td>Ticker</td>\n",
       "      <td>CUSIP</td>\n",
       "      <td>Name</td>\n",
       "      <td>Shares</td>\n",
       "      <td>% of ETF</td>\n",
       "      <td>NaN</td>\n",
       "    </tr>\n",
       "    <tr>\n",
       "      <th>3</th>\n",
       "      <td>ARKF</td>\n",
       "      <td>7/30/21</td>\n",
       "      <td>Buy</td>\n",
       "      <td>HOOD</td>\n",
       "      <td>770700102</td>\n",
       "      <td>ROBINHOOD MARKETS INC</td>\n",
       "      <td>213,484</td>\n",
       "      <td>0.1964</td>\n",
       "      <td>NaN</td>\n",
       "    </tr>\n",
       "    <tr>\n",
       "      <th>4</th>\n",
       "      <td>ARKF</td>\n",
       "      <td>7/30/21</td>\n",
       "      <td>Buy</td>\n",
       "      <td>PINS</td>\n",
       "      <td>72352L106</td>\n",
       "      <td>PINTEREST INC</td>\n",
       "      <td>151,929</td>\n",
       "      <td>0.2449</td>\n",
       "      <td>NaN</td>\n",
       "    </tr>\n",
       "    <tr>\n",
       "      <th>5</th>\n",
       "      <td>ARKF</td>\n",
       "      <td>7/30/21</td>\n",
       "      <td>Sell</td>\n",
       "      <td>BEKE</td>\n",
       "      <td>482497104</td>\n",
       "      <td>KE HOLDINGS INC</td>\n",
       "      <td>300</td>\n",
       "      <td>0.0002</td>\n",
       "      <td>NaN</td>\n",
       "    </tr>\n",
       "    <tr>\n",
       "      <th>6</th>\n",
       "      <td>ARKF</td>\n",
       "      <td>7/30/21</td>\n",
       "      <td>Sell</td>\n",
       "      <td>ICE</td>\n",
       "      <td>45866F104</td>\n",
       "      <td>INTERCONTINENTAL EXCHANGE INC</td>\n",
       "      <td>136,096</td>\n",
       "      <td>0.4382</td>\n",
       "      <td>NaN</td>\n",
       "    </tr>\n",
       "  </tbody>\n",
       "</table>\n",
       "</div>"
      ],
      "text/plain": [
       "  INTRA-DAY TRADE TO TOTAL FUND HOLDINGS (NOT INDIVIDUAL BASKET) Unnamed: 1  \\\n",
       "2                                               FUND                   Date   \n",
       "3                                               ARKF                7/30/21   \n",
       "4                                               ARKF                7/30/21   \n",
       "5                                               ARKF                7/30/21   \n",
       "6                                               ARKF                7/30/21   \n",
       "\n",
       "  Unnamed: 2 Unnamed: 3 Unnamed: 4                     Unnamed: 5 Unnamed: 6  \\\n",
       "2  Direction     Ticker      CUSIP                           Name     Shares   \n",
       "3        Buy       HOOD  770700102          ROBINHOOD MARKETS INC    213,484   \n",
       "4        Buy       PINS  72352L106                  PINTEREST INC    151,929   \n",
       "5       Sell       BEKE  482497104                KE HOLDINGS INC        300   \n",
       "6       Sell        ICE  45866F104  INTERCONTINENTAL EXCHANGE INC    136,096   \n",
       "\n",
       "  Unnamed: 7  Unnamed: 8  \n",
       "2   % of ETF         NaN  \n",
       "3     0.1964         NaN  \n",
       "4     0.2449         NaN  \n",
       "5     0.0002         NaN  \n",
       "6     0.4382         NaN  "
      ]
     },
     "execution_count": 9,
     "metadata": {},
     "output_type": "execute_result"
    }
   ],
   "source": [
    "# Delete the first two rows\n",
    "\n",
    "df = df.drop([0,1])\n",
    "df.head()"
   ]
  },
  {
   "cell_type": "code",
   "execution_count": 10,
   "metadata": {},
   "outputs": [
    {
     "data": {
      "text/html": [
       "<div>\n",
       "<style scoped>\n",
       "    .dataframe tbody tr th:only-of-type {\n",
       "        vertical-align: middle;\n",
       "    }\n",
       "\n",
       "    .dataframe tbody tr th {\n",
       "        vertical-align: top;\n",
       "    }\n",
       "\n",
       "    .dataframe thead th {\n",
       "        text-align: right;\n",
       "    }\n",
       "</style>\n",
       "<table border=\"1\" class=\"dataframe\">\n",
       "  <thead>\n",
       "    <tr style=\"text-align: right;\">\n",
       "      <th></th>\n",
       "      <th>INTRA-DAY TRADE TO TOTAL FUND HOLDINGS (NOT INDIVIDUAL BASKET)</th>\n",
       "      <th>Unnamed: 1</th>\n",
       "      <th>Unnamed: 2</th>\n",
       "      <th>Unnamed: 3</th>\n",
       "      <th>Unnamed: 4</th>\n",
       "      <th>Unnamed: 5</th>\n",
       "      <th>Unnamed: 6</th>\n",
       "      <th>Unnamed: 7</th>\n",
       "    </tr>\n",
       "  </thead>\n",
       "  <tbody>\n",
       "    <tr>\n",
       "      <th>2</th>\n",
       "      <td>FUND</td>\n",
       "      <td>Date</td>\n",
       "      <td>Direction</td>\n",
       "      <td>Ticker</td>\n",
       "      <td>CUSIP</td>\n",
       "      <td>Name</td>\n",
       "      <td>Shares</td>\n",
       "      <td>% of ETF</td>\n",
       "    </tr>\n",
       "    <tr>\n",
       "      <th>3</th>\n",
       "      <td>ARKF</td>\n",
       "      <td>7/30/21</td>\n",
       "      <td>Buy</td>\n",
       "      <td>HOOD</td>\n",
       "      <td>770700102</td>\n",
       "      <td>ROBINHOOD MARKETS INC</td>\n",
       "      <td>213,484</td>\n",
       "      <td>0.1964</td>\n",
       "    </tr>\n",
       "    <tr>\n",
       "      <th>4</th>\n",
       "      <td>ARKF</td>\n",
       "      <td>7/30/21</td>\n",
       "      <td>Buy</td>\n",
       "      <td>PINS</td>\n",
       "      <td>72352L106</td>\n",
       "      <td>PINTEREST INC</td>\n",
       "      <td>151,929</td>\n",
       "      <td>0.2449</td>\n",
       "    </tr>\n",
       "    <tr>\n",
       "      <th>5</th>\n",
       "      <td>ARKF</td>\n",
       "      <td>7/30/21</td>\n",
       "      <td>Sell</td>\n",
       "      <td>BEKE</td>\n",
       "      <td>482497104</td>\n",
       "      <td>KE HOLDINGS INC</td>\n",
       "      <td>300</td>\n",
       "      <td>0.0002</td>\n",
       "    </tr>\n",
       "    <tr>\n",
       "      <th>6</th>\n",
       "      <td>ARKF</td>\n",
       "      <td>7/30/21</td>\n",
       "      <td>Sell</td>\n",
       "      <td>ICE</td>\n",
       "      <td>45866F104</td>\n",
       "      <td>INTERCONTINENTAL EXCHANGE INC</td>\n",
       "      <td>136,096</td>\n",
       "      <td>0.4382</td>\n",
       "    </tr>\n",
       "  </tbody>\n",
       "</table>\n",
       "</div>"
      ],
      "text/plain": [
       "  INTRA-DAY TRADE TO TOTAL FUND HOLDINGS (NOT INDIVIDUAL BASKET) Unnamed: 1  \\\n",
       "2                                               FUND                   Date   \n",
       "3                                               ARKF                7/30/21   \n",
       "4                                               ARKF                7/30/21   \n",
       "5                                               ARKF                7/30/21   \n",
       "6                                               ARKF                7/30/21   \n",
       "\n",
       "  Unnamed: 2 Unnamed: 3 Unnamed: 4                     Unnamed: 5 Unnamed: 6  \\\n",
       "2  Direction     Ticker      CUSIP                           Name     Shares   \n",
       "3        Buy       HOOD  770700102          ROBINHOOD MARKETS INC    213,484   \n",
       "4        Buy       PINS  72352L106                  PINTEREST INC    151,929   \n",
       "5       Sell       BEKE  482497104                KE HOLDINGS INC        300   \n",
       "6       Sell        ICE  45866F104  INTERCONTINENTAL EXCHANGE INC    136,096   \n",
       "\n",
       "  Unnamed: 7  \n",
       "2   % of ETF  \n",
       "3     0.1964  \n",
       "4     0.2449  \n",
       "5     0.0002  \n",
       "6     0.4382  "
      ]
     },
     "execution_count": 10,
     "metadata": {},
     "output_type": "execute_result"
    }
   ],
   "source": [
    "# Drop the last column\n",
    "\n",
    "df = df.drop(columns = 'Unnamed: 8')\n",
    "df.head()"
   ]
  },
  {
   "cell_type": "code",
   "execution_count": 11,
   "metadata": {},
   "outputs": [
    {
     "data": {
      "text/html": [
       "<div>\n",
       "<style scoped>\n",
       "    .dataframe tbody tr th:only-of-type {\n",
       "        vertical-align: middle;\n",
       "    }\n",
       "\n",
       "    .dataframe tbody tr th {\n",
       "        vertical-align: top;\n",
       "    }\n",
       "\n",
       "    .dataframe thead th {\n",
       "        text-align: right;\n",
       "    }\n",
       "</style>\n",
       "<table border=\"1\" class=\"dataframe\">\n",
       "  <thead>\n",
       "    <tr style=\"text-align: right;\">\n",
       "      <th></th>\n",
       "      <th>fund</th>\n",
       "      <th>date</th>\n",
       "      <th>direction</th>\n",
       "      <th>ticker</th>\n",
       "      <th>cusip</th>\n",
       "      <th>name</th>\n",
       "      <th>shares</th>\n",
       "      <th>% of etf</th>\n",
       "    </tr>\n",
       "  </thead>\n",
       "  <tbody>\n",
       "    <tr>\n",
       "      <th>2</th>\n",
       "      <td>FUND</td>\n",
       "      <td>Date</td>\n",
       "      <td>Direction</td>\n",
       "      <td>Ticker</td>\n",
       "      <td>CUSIP</td>\n",
       "      <td>Name</td>\n",
       "      <td>Shares</td>\n",
       "      <td>% of ETF</td>\n",
       "    </tr>\n",
       "    <tr>\n",
       "      <th>3</th>\n",
       "      <td>ARKF</td>\n",
       "      <td>7/30/21</td>\n",
       "      <td>Buy</td>\n",
       "      <td>HOOD</td>\n",
       "      <td>770700102</td>\n",
       "      <td>ROBINHOOD MARKETS INC</td>\n",
       "      <td>213,484</td>\n",
       "      <td>0.1964</td>\n",
       "    </tr>\n",
       "    <tr>\n",
       "      <th>4</th>\n",
       "      <td>ARKF</td>\n",
       "      <td>7/30/21</td>\n",
       "      <td>Buy</td>\n",
       "      <td>PINS</td>\n",
       "      <td>72352L106</td>\n",
       "      <td>PINTEREST INC</td>\n",
       "      <td>151,929</td>\n",
       "      <td>0.2449</td>\n",
       "    </tr>\n",
       "    <tr>\n",
       "      <th>5</th>\n",
       "      <td>ARKF</td>\n",
       "      <td>7/30/21</td>\n",
       "      <td>Sell</td>\n",
       "      <td>BEKE</td>\n",
       "      <td>482497104</td>\n",
       "      <td>KE HOLDINGS INC</td>\n",
       "      <td>300</td>\n",
       "      <td>0.0002</td>\n",
       "    </tr>\n",
       "    <tr>\n",
       "      <th>6</th>\n",
       "      <td>ARKF</td>\n",
       "      <td>7/30/21</td>\n",
       "      <td>Sell</td>\n",
       "      <td>ICE</td>\n",
       "      <td>45866F104</td>\n",
       "      <td>INTERCONTINENTAL EXCHANGE INC</td>\n",
       "      <td>136,096</td>\n",
       "      <td>0.4382</td>\n",
       "    </tr>\n",
       "  </tbody>\n",
       "</table>\n",
       "</div>"
      ],
      "text/plain": [
       "   fund     date  direction  ticker      cusip                           name  \\\n",
       "2  FUND     Date  Direction  Ticker      CUSIP                           Name   \n",
       "3  ARKF  7/30/21        Buy    HOOD  770700102          ROBINHOOD MARKETS INC   \n",
       "4  ARKF  7/30/21        Buy    PINS  72352L106                  PINTEREST INC   \n",
       "5  ARKF  7/30/21       Sell    BEKE  482497104                KE HOLDINGS INC   \n",
       "6  ARKF  7/30/21       Sell     ICE  45866F104  INTERCONTINENTAL EXCHANGE INC   \n",
       "\n",
       "    shares  % of etf  \n",
       "2   Shares  % of ETF  \n",
       "3  213,484    0.1964  \n",
       "4  151,929    0.2449  \n",
       "5      300    0.0002  \n",
       "6  136,096    0.4382  "
      ]
     },
     "execution_count": 11,
     "metadata": {},
     "output_type": "execute_result"
    }
   ],
   "source": [
    "# Correct the column names\n",
    "\n",
    "col_names = list(df.iloc[0].str.lower().values)\n",
    "df.columns = col_names\n",
    "df.head()"
   ]
  },
  {
   "cell_type": "code",
   "execution_count": 12,
   "metadata": {},
   "outputs": [
    {
     "data": {
      "text/html": [
       "<div>\n",
       "<style scoped>\n",
       "    .dataframe tbody tr th:only-of-type {\n",
       "        vertical-align: middle;\n",
       "    }\n",
       "\n",
       "    .dataframe tbody tr th {\n",
       "        vertical-align: top;\n",
       "    }\n",
       "\n",
       "    .dataframe thead th {\n",
       "        text-align: right;\n",
       "    }\n",
       "</style>\n",
       "<table border=\"1\" class=\"dataframe\">\n",
       "  <thead>\n",
       "    <tr style=\"text-align: right;\">\n",
       "      <th></th>\n",
       "      <th>fund</th>\n",
       "      <th>date</th>\n",
       "      <th>direction</th>\n",
       "      <th>ticker</th>\n",
       "      <th>cusip</th>\n",
       "      <th>name</th>\n",
       "      <th>shares</th>\n",
       "      <th>% of etf</th>\n",
       "    </tr>\n",
       "  </thead>\n",
       "  <tbody>\n",
       "    <tr>\n",
       "      <th>3</th>\n",
       "      <td>ARKF</td>\n",
       "      <td>7/30/21</td>\n",
       "      <td>Buy</td>\n",
       "      <td>HOOD</td>\n",
       "      <td>770700102</td>\n",
       "      <td>ROBINHOOD MARKETS INC</td>\n",
       "      <td>213,484</td>\n",
       "      <td>0.1964</td>\n",
       "    </tr>\n",
       "    <tr>\n",
       "      <th>4</th>\n",
       "      <td>ARKF</td>\n",
       "      <td>7/30/21</td>\n",
       "      <td>Buy</td>\n",
       "      <td>PINS</td>\n",
       "      <td>72352L106</td>\n",
       "      <td>PINTEREST INC</td>\n",
       "      <td>151,929</td>\n",
       "      <td>0.2449</td>\n",
       "    </tr>\n",
       "    <tr>\n",
       "      <th>5</th>\n",
       "      <td>ARKF</td>\n",
       "      <td>7/30/21</td>\n",
       "      <td>Sell</td>\n",
       "      <td>BEKE</td>\n",
       "      <td>482497104</td>\n",
       "      <td>KE HOLDINGS INC</td>\n",
       "      <td>300</td>\n",
       "      <td>0.0002</td>\n",
       "    </tr>\n",
       "    <tr>\n",
       "      <th>6</th>\n",
       "      <td>ARKF</td>\n",
       "      <td>7/30/21</td>\n",
       "      <td>Sell</td>\n",
       "      <td>ICE</td>\n",
       "      <td>45866F104</td>\n",
       "      <td>INTERCONTINENTAL EXCHANGE INC</td>\n",
       "      <td>136,096</td>\n",
       "      <td>0.4382</td>\n",
       "    </tr>\n",
       "    <tr>\n",
       "      <th>7</th>\n",
       "      <td>ARKF</td>\n",
       "      <td>7/30/21</td>\n",
       "      <td>Sell</td>\n",
       "      <td>SCHW</td>\n",
       "      <td>808513105</td>\n",
       "      <td>CHARLES SCHWAB CORP/THE</td>\n",
       "      <td>16,000</td>\n",
       "      <td>0.0292</td>\n",
       "    </tr>\n",
       "  </tbody>\n",
       "</table>\n",
       "</div>"
      ],
      "text/plain": [
       "   fund     date direction ticker      cusip                           name  \\\n",
       "3  ARKF  7/30/21       Buy   HOOD  770700102          ROBINHOOD MARKETS INC   \n",
       "4  ARKF  7/30/21       Buy   PINS  72352L106                  PINTEREST INC   \n",
       "5  ARKF  7/30/21      Sell   BEKE  482497104                KE HOLDINGS INC   \n",
       "6  ARKF  7/30/21      Sell    ICE  45866F104  INTERCONTINENTAL EXCHANGE INC   \n",
       "7  ARKF  7/30/21      Sell   SCHW  808513105        CHARLES SCHWAB CORP/THE   \n",
       "\n",
       "    shares % of etf  \n",
       "3  213,484   0.1964  \n",
       "4  151,929   0.2449  \n",
       "5      300   0.0002  \n",
       "6  136,096   0.4382  \n",
       "7   16,000   0.0292  "
      ]
     },
     "execution_count": 12,
     "metadata": {},
     "output_type": "execute_result"
    }
   ],
   "source": [
    "# Delete the first row\n",
    "\n",
    "df = df.drop([2])\n",
    "df.head()"
   ]
  },
  {
   "cell_type": "code",
   "execution_count": 13,
   "metadata": {},
   "outputs": [
    {
     "data": {
      "text/html": [
       "<div>\n",
       "<style scoped>\n",
       "    .dataframe tbody tr th:only-of-type {\n",
       "        vertical-align: middle;\n",
       "    }\n",
       "\n",
       "    .dataframe tbody tr th {\n",
       "        vertical-align: top;\n",
       "    }\n",
       "\n",
       "    .dataframe thead th {\n",
       "        text-align: right;\n",
       "    }\n",
       "</style>\n",
       "<table border=\"1\" class=\"dataframe\">\n",
       "  <thead>\n",
       "    <tr style=\"text-align: right;\">\n",
       "      <th></th>\n",
       "      <th>fund</th>\n",
       "      <th>date</th>\n",
       "      <th>direction</th>\n",
       "      <th>ticker</th>\n",
       "      <th>cusip</th>\n",
       "      <th>name</th>\n",
       "      <th>shares</th>\n",
       "      <th>% of etf</th>\n",
       "    </tr>\n",
       "  </thead>\n",
       "  <tbody>\n",
       "    <tr>\n",
       "      <th>0</th>\n",
       "      <td>ARKF</td>\n",
       "      <td>7/30/21</td>\n",
       "      <td>Buy</td>\n",
       "      <td>HOOD</td>\n",
       "      <td>770700102</td>\n",
       "      <td>ROBINHOOD MARKETS INC</td>\n",
       "      <td>213,484</td>\n",
       "      <td>0.1964</td>\n",
       "    </tr>\n",
       "    <tr>\n",
       "      <th>1</th>\n",
       "      <td>ARKF</td>\n",
       "      <td>7/30/21</td>\n",
       "      <td>Buy</td>\n",
       "      <td>PINS</td>\n",
       "      <td>72352L106</td>\n",
       "      <td>PINTEREST INC</td>\n",
       "      <td>151,929</td>\n",
       "      <td>0.2449</td>\n",
       "    </tr>\n",
       "    <tr>\n",
       "      <th>2</th>\n",
       "      <td>ARKF</td>\n",
       "      <td>7/30/21</td>\n",
       "      <td>Sell</td>\n",
       "      <td>BEKE</td>\n",
       "      <td>482497104</td>\n",
       "      <td>KE HOLDINGS INC</td>\n",
       "      <td>300</td>\n",
       "      <td>0.0002</td>\n",
       "    </tr>\n",
       "    <tr>\n",
       "      <th>3</th>\n",
       "      <td>ARKF</td>\n",
       "      <td>7/30/21</td>\n",
       "      <td>Sell</td>\n",
       "      <td>ICE</td>\n",
       "      <td>45866F104</td>\n",
       "      <td>INTERCONTINENTAL EXCHANGE INC</td>\n",
       "      <td>136,096</td>\n",
       "      <td>0.4382</td>\n",
       "    </tr>\n",
       "    <tr>\n",
       "      <th>4</th>\n",
       "      <td>ARKF</td>\n",
       "      <td>7/30/21</td>\n",
       "      <td>Sell</td>\n",
       "      <td>SCHW</td>\n",
       "      <td>808513105</td>\n",
       "      <td>CHARLES SCHWAB CORP/THE</td>\n",
       "      <td>16,000</td>\n",
       "      <td>0.0292</td>\n",
       "    </tr>\n",
       "  </tbody>\n",
       "</table>\n",
       "</div>"
      ],
      "text/plain": [
       "   fund     date direction ticker      cusip                           name  \\\n",
       "0  ARKF  7/30/21       Buy   HOOD  770700102          ROBINHOOD MARKETS INC   \n",
       "1  ARKF  7/30/21       Buy   PINS  72352L106                  PINTEREST INC   \n",
       "2  ARKF  7/30/21      Sell   BEKE  482497104                KE HOLDINGS INC   \n",
       "3  ARKF  7/30/21      Sell    ICE  45866F104  INTERCONTINENTAL EXCHANGE INC   \n",
       "4  ARKF  7/30/21      Sell   SCHW  808513105        CHARLES SCHWAB CORP/THE   \n",
       "\n",
       "    shares % of etf  \n",
       "0  213,484   0.1964  \n",
       "1  151,929   0.2449  \n",
       "2      300   0.0002  \n",
       "3  136,096   0.4382  \n",
       "4   16,000   0.0292  "
      ]
     },
     "execution_count": 13,
     "metadata": {},
     "output_type": "execute_result"
    }
   ],
   "source": [
    "# Reset the index\n",
    "\n",
    "df = df.reset_index()\n",
    "df = df.drop(columns='index')\n",
    "df.head()"
   ]
  },
  {
   "cell_type": "code",
   "execution_count": 21,
   "metadata": {},
   "outputs": [],
   "source": [
    "df.shares = df.shares.str.replace(\",\", \"\")"
   ]
  },
  {
   "cell_type": "code",
   "execution_count": 22,
   "metadata": {},
   "outputs": [
    {
     "name": "stdout",
     "output_type": "stream",
     "text": [
      "<class 'pandas.core.frame.DataFrame'>\n",
      "RangeIndex: 46 entries, 0 to 45\n",
      "Data columns (total 8 columns):\n",
      " #   Column     Non-Null Count  Dtype  \n",
      "---  ------     --------------  -----  \n",
      " 0   fund       46 non-null     object \n",
      " 1   date       46 non-null     object \n",
      " 2   direction  46 non-null     object \n",
      " 3   ticker     46 non-null     object \n",
      " 4   cusip      46 non-null     object \n",
      " 5   name       46 non-null     object \n",
      " 6   shares     46 non-null     int64  \n",
      " 7   % of etf   46 non-null     float64\n",
      "dtypes: float64(1), int64(1), object(6)\n",
      "memory usage: 3.0+ KB\n"
     ]
    }
   ],
   "source": [
    "# Cast the columns to a specified dtype\n",
    "\n",
    "dtype_dic = {\n",
    "    'shares': 'int64',\n",
    "    '% of etf': 'float64'\n",
    "}\n",
    "\n",
    "df = df.astype(dtype_dic)\n",
    "df.info()"
   ]
  },
  {
   "cell_type": "code",
   "execution_count": 23,
   "metadata": {},
   "outputs": [
    {
     "name": "stdout",
     "output_type": "stream",
     "text": [
      "<class 'pandas.core.frame.DataFrame'>\n",
      "DatetimeIndex: 46 entries, 2021-07-30 to 2021-07-30\n",
      "Data columns (total 7 columns):\n",
      " #   Column     Non-Null Count  Dtype  \n",
      "---  ------     --------------  -----  \n",
      " 0   fund       46 non-null     object \n",
      " 1   direction  46 non-null     object \n",
      " 2   ticker     46 non-null     object \n",
      " 3   cusip      46 non-null     object \n",
      " 4   name       46 non-null     object \n",
      " 5   shares     46 non-null     int64  \n",
      " 6   % of etf   46 non-null     float64\n",
      "dtypes: float64(1), int64(1), object(5)\n",
      "memory usage: 2.9+ KB\n"
     ]
    }
   ],
   "source": [
    "# Convert the values of the date column to the datetime64 dtype\n",
    "df.date = pd.to_datetime(df.date)\n",
    "\n",
    "# Set the date column as the index\n",
    "df = df.set_index('date')\n",
    "\n",
    "df.info()"
   ]
  },
  {
   "cell_type": "code",
   "execution_count": 24,
   "metadata": {},
   "outputs": [],
   "source": [
    "# Define a function to preprocess the daily trading record\n",
    "\n",
    "def clean_daily_portfolio_adjustments(df):\n",
    "    '''\n",
    "    The function takes the daily portfolio adjustments made by the ARK investment team\n",
    "    and return the clean table. \n",
    "    '''\n",
    "    # Drop the null values\n",
    "    df = df.drop([0,1])\n",
    "    df = df.drop(columns='Unnamed: 8')\n",
    "    \n",
    "    # Rename the columns\n",
    "    col_names = list(df.iloc[0].str.lower().values)\n",
    "    df.columns = col_names\n",
    "    \n",
    "    # Delete the redundant row\n",
    "    df = df.drop([2])\n",
    "    \n",
    "    # Reset the index\n",
    "    df = df.reset_index()\n",
    "    df = df.drop(columns='index')\n",
    "\n",
    "    # Cast values to a specified dyptes\n",
    "    df.shares = df.shares.str.replace(\",\", \"\")\n",
    "    dtype_dic = {'shares': 'int64', '% of etf': 'float64'}\n",
    "    df = df.astype(dtype_dic)\n",
    "    df.date = pd.to_datetime(df.date)\n",
    "\n",
    "    # Set the date column as the index\n",
    "    df = df.set_index('date')\n",
    "    \n",
    "    return df"
   ]
  },
  {
   "cell_type": "code",
   "execution_count": 25,
   "metadata": {},
   "outputs": [
    {
     "name": "stdout",
     "output_type": "stream",
     "text": [
      "(46, 7)\n",
      "<class 'pandas.core.frame.DataFrame'>\n",
      "DatetimeIndex: 46 entries, 2021-07-30 to 2021-07-30\n",
      "Data columns (total 7 columns):\n",
      " #   Column     Non-Null Count  Dtype  \n",
      "---  ------     --------------  -----  \n",
      " 0   fund       46 non-null     object \n",
      " 1   direction  46 non-null     object \n",
      " 2   ticker     46 non-null     object \n",
      " 3   cusip      46 non-null     object \n",
      " 4   name       46 non-null     object \n",
      " 5   shares     46 non-null     int64  \n",
      " 6   % of etf   46 non-null     float64\n",
      "dtypes: float64(1), int64(1), object(5)\n",
      "memory usage: 2.9+ KB\n"
     ]
    }
   ],
   "source": [
    "# Clean today's adjustments\n",
    "\n",
    "daily_trade = pd.read_csv(f\"{tradedb}ARK_Trade_07302021.csv\")\n",
    "daily_trade = clean_daily_portfolio_adjustments(daily_trade)\n",
    "print(daily_trade.shape)\n",
    "daily_trade.info()"
   ]
  },
  {
   "cell_type": "code",
   "execution_count": 26,
   "metadata": {},
   "outputs": [],
   "source": [
    "# Define a function to append the daily portolio adjustments to the record\n",
    "\n",
    "def append_daily_portfolio_adjustments(daily_trade):\n",
    "    '''\n",
    "    '''\n",
    "    df = pd.read_csv(f\"{tradedb}arktrade.csv\")\n",
    "    df.date = pd.to_datetime(df.date)\n",
    "    df = df.set_index('date')\n",
    "    df = pd.concat([df,daily_trade])\n",
    "    df = df.sort_index(ascending=False)\n",
    "    df.to_csv(f\"{tradedb}arktrade.csv\")\n",
    "    return df"
   ]
  },
  {
   "cell_type": "code",
   "execution_count": 27,
   "metadata": {},
   "outputs": [
    {
     "data": {
      "text/html": [
       "<div>\n",
       "<style scoped>\n",
       "    .dataframe tbody tr th:only-of-type {\n",
       "        vertical-align: middle;\n",
       "    }\n",
       "\n",
       "    .dataframe tbody tr th {\n",
       "        vertical-align: top;\n",
       "    }\n",
       "\n",
       "    .dataframe thead th {\n",
       "        text-align: right;\n",
       "    }\n",
       "</style>\n",
       "<table border=\"1\" class=\"dataframe\">\n",
       "  <thead>\n",
       "    <tr style=\"text-align: right;\">\n",
       "      <th></th>\n",
       "      <th>fund</th>\n",
       "      <th>direction</th>\n",
       "      <th>ticker</th>\n",
       "      <th>cusip</th>\n",
       "      <th>name</th>\n",
       "      <th>shares</th>\n",
       "      <th>% of etf</th>\n",
       "    </tr>\n",
       "    <tr>\n",
       "      <th>date</th>\n",
       "      <th></th>\n",
       "      <th></th>\n",
       "      <th></th>\n",
       "      <th></th>\n",
       "      <th></th>\n",
       "      <th></th>\n",
       "      <th></th>\n",
       "    </tr>\n",
       "  </thead>\n",
       "  <tbody>\n",
       "    <tr>\n",
       "      <th>2021-07-30</th>\n",
       "      <td>ARKX</td>\n",
       "      <td>Sell</td>\n",
       "      <td>RAVN</td>\n",
       "      <td>754212108</td>\n",
       "      <td>RAVEN INDUSTRIES INC</td>\n",
       "      <td>50</td>\n",
       "      <td>0.0005</td>\n",
       "    </tr>\n",
       "    <tr>\n",
       "      <th>2021-07-30</th>\n",
       "      <td>ARKG</td>\n",
       "      <td>Sell</td>\n",
       "      <td>SEER</td>\n",
       "      <td>81578P106</td>\n",
       "      <td>SEER INC</td>\n",
       "      <td>13188</td>\n",
       "      <td>0.0049</td>\n",
       "    </tr>\n",
       "    <tr>\n",
       "      <th>2021-07-30</th>\n",
       "      <td>ARKK</td>\n",
       "      <td>Sell</td>\n",
       "      <td>DOCU</td>\n",
       "      <td>256163106</td>\n",
       "      <td>DOCUSIGN INC</td>\n",
       "      <td>34513</td>\n",
       "      <td>0.0455</td>\n",
       "    </tr>\n",
       "    <tr>\n",
       "      <th>2021-07-30</th>\n",
       "      <td>ARKK</td>\n",
       "      <td>Buy</td>\n",
       "      <td>BEAM</td>\n",
       "      <td>07373V105</td>\n",
       "      <td>BEAM THERAPEUTICS INC</td>\n",
       "      <td>80161</td>\n",
       "      <td>0.0324</td>\n",
       "    </tr>\n",
       "    <tr>\n",
       "      <th>2021-07-30</th>\n",
       "      <td>ARKK</td>\n",
       "      <td>Buy</td>\n",
       "      <td>EXAS</td>\n",
       "      <td>30063P105</td>\n",
       "      <td>EXACT SCIENCES CORP</td>\n",
       "      <td>69673</td>\n",
       "      <td>0.0342</td>\n",
       "    </tr>\n",
       "  </tbody>\n",
       "</table>\n",
       "</div>"
      ],
      "text/plain": [
       "            fund direction ticker      cusip                   name  shares  \\\n",
       "date                                                                          \n",
       "2021-07-30  ARKX      Sell   RAVN  754212108   RAVEN INDUSTRIES INC      50   \n",
       "2021-07-30  ARKG      Sell   SEER  81578P106               SEER INC   13188   \n",
       "2021-07-30  ARKK      Sell   DOCU  256163106           DOCUSIGN INC   34513   \n",
       "2021-07-30  ARKK       Buy   BEAM  07373V105  BEAM THERAPEUTICS INC   80161   \n",
       "2021-07-30  ARKK       Buy   EXAS  30063P105    EXACT SCIENCES CORP   69673   \n",
       "\n",
       "            % of etf  \n",
       "date                  \n",
       "2021-07-30    0.0005  \n",
       "2021-07-30    0.0049  \n",
       "2021-07-30    0.0455  \n",
       "2021-07-30    0.0324  \n",
       "2021-07-30    0.0342  "
      ]
     },
     "execution_count": 27,
     "metadata": {},
     "output_type": "execute_result"
    }
   ],
   "source": [
    "# Append today's adjustments\n",
    "\n",
    "df = append_daily_portfolio_adjustments(daily_trade)\n",
    "df.head()"
   ]
  },
  {
   "cell_type": "code",
   "execution_count": 28,
   "metadata": {},
   "outputs": [
    {
     "data": {
      "text/plain": [
       "2021-07-16    25\n",
       "2021-07-19    38\n",
       "2021-07-20    40\n",
       "2021-07-21    38\n",
       "2021-07-22    36\n",
       "2021-07-23    36\n",
       "2021-07-26    52\n",
       "2021-07-27    62\n",
       "2021-07-28    53\n",
       "2021-07-29    50\n",
       "2021-07-30    46\n",
       "Name: date, dtype: int64"
      ]
     },
     "execution_count": 28,
     "metadata": {},
     "output_type": "execute_result"
    }
   ],
   "source": [
    "# Sanity check\n",
    "df.index.value_counts().sort_index()"
   ]
  },
  {
   "cell_type": "code",
   "execution_count": 29,
   "metadata": {},
   "outputs": [
    {
     "data": {
      "text/plain": [
       "BEKE     17\n",
       "PATH     15\n",
       "TCEHY    14\n",
       "FATE     12\n",
       "JD       12\n",
       "Name: ticker, dtype: int64"
      ]
     },
     "execution_count": 29,
     "metadata": {},
     "output_type": "execute_result"
    }
   ],
   "source": [
    "df.ticker.value_counts().head()"
   ]
  },
  {
   "cell_type": "markdown",
   "metadata": {},
   "source": [
    "### Summary of NASDAQ Stocks in US"
   ]
  },
  {
   "cell_type": "code",
   "execution_count": null,
   "metadata": {},
   "outputs": [],
   "source": [
    "# Load all the stocks from US in NASDAQ\n",
    "df_nasdaqus = pd.read_csv(f\"{database}NASDAQ_US_032821.csv\")\n",
    "\n",
    "# Print the concise summary of the dataframe\n",
    "df_nasdaqus.info()"
   ]
  },
  {
   "cell_type": "code",
   "execution_count": null,
   "metadata": {},
   "outputs": [],
   "source": [
    "# Inspect 5 random stocks \n",
    "df_nasdaqus.sample(5)"
   ]
  },
  {
   "cell_type": "code",
   "execution_count": null,
   "metadata": {},
   "outputs": [],
   "source": [
    "# Compute the percentage of stocks lack of IPO years\n",
    "df_nasdaqus['IPO Year'].value_counts(dropna=False, normalize=True).head(1)"
   ]
  },
  {
   "cell_type": "markdown",
   "metadata": {},
   "source": [
    "**Takeaways**\n",
    "1. About 40% of the stocks' IPO years are missing in the dataframe. How come so many stocks don't have IPO years? \n",
    "2. More than 200 stocks don't have sector and industry information. \n",
    "3. 13 stocks don't have market cap."
   ]
  },
  {
   "cell_type": "code",
   "execution_count": null,
   "metadata": {},
   "outputs": [],
   "source": [
    "df_nasdaqus['IPO Year'].value_counts().sort_index().plot(kind='bar', figsize=(13,7))\n",
    "plt.show()"
   ]
  },
  {
   "cell_type": "code",
   "execution_count": null,
   "metadata": {},
   "outputs": [],
   "source": [
    "mask = (df_nasdaqus['IPO Year'] == 2021) | (df_nasdaqus['IPO Year'] == 2020) | (df_nasdaqus['IPO Year'] == 2019)\n",
    "mask.sum()"
   ]
  },
  {
   "cell_type": "code",
   "execution_count": null,
   "metadata": {},
   "outputs": [],
   "source": [
    "df_nasdaqrecent = df_nasdaqus[mask]\n",
    "df_nasdaqrecent"
   ]
  },
  {
   "cell_type": "code",
   "execution_count": null,
   "metadata": {},
   "outputs": [],
   "source": [
    "# The distribution of most recent IPO companies by sectors\n",
    "pd.concat([df_nasdaqrecent.Sector.value_counts(),\n",
    "           df_nasdaqrecent.Sector.value_counts(normalize=True)], axis=1)"
   ]
  },
  {
   "cell_type": "markdown",
   "metadata": {},
   "source": [
    "**Takeaways**: 62% of the New IPOs belong to Finance sector."
   ]
  },
  {
   "cell_type": "code",
   "execution_count": null,
   "metadata": {},
   "outputs": [],
   "source": [
    "# The distribution of most recent IPO companies by industries\n",
    "df_nasdaqrecent.Industry.value_counts(normalize=True).head(10)"
   ]
  },
  {
   "cell_type": "code",
   "execution_count": null,
   "metadata": {},
   "outputs": [],
   "source": [
    "df_nasdaqus.sort_values(by='Market Cap', ascending=False).head(10)"
   ]
  },
  {
   "cell_type": "code",
   "execution_count": null,
   "metadata": {},
   "outputs": [],
   "source": [
    "df_nasdaqus.Sector.value_counts(normalize=True)"
   ]
  },
  {
   "cell_type": "markdown",
   "metadata": {},
   "source": [
    "### Acquire the Historical Data of Major Indexes"
   ]
  },
  {
   "cell_type": "code",
   "execution_count": null,
   "metadata": {},
   "outputs": [],
   "source": [
    "%%time\n",
    "# Create a list of benchmark index symbols\n",
    "symbols = ['^GSPC', '^DJI', '^IXIC', '^RUT', '^NDX']\n",
    "\n",
    "# Define the start and end date\n",
    "start_date = \"1995-01-01\"\n",
    "end_date = date.today()\n",
    "\n",
    "# Acquire their adjusted closing price\n",
    "df_marks = acquire.acquire_stock_adjclosing(symbols, start_date, end_date)\n",
    "\n",
    "# Print the number of records\n",
    "print(df_marks.shape[0])\n",
    "\n",
    "# Create a list of benchmark index names\n",
    "benchmarks = ['SP500', 'Dow30', 'Nasdaq Composite', 'Russell2000', 'NASDQA 100']\n",
    "\n",
    "# Rename the columns as bechmark index names\n",
    "df_marks.columns = benchmarks\n",
    "\n",
    "# Inspect the tail of the dataframe\n",
    "df_marks.tail()"
   ]
  },
  {
   "cell_type": "code",
   "execution_count": null,
   "metadata": {},
   "outputs": [],
   "source": [
    "# Inspect the head of the dataframe\n",
    "df_marks.head()"
   ]
  },
  {
   "cell_type": "code",
   "execution_count": null,
   "metadata": {},
   "outputs": [],
   "source": [
    "df_marks['SP500'].diff(1)"
   ]
  },
  {
   "cell_type": "code",
   "execution_count": null,
   "metadata": {
    "scrolled": true
   },
   "outputs": [],
   "source": [
    "# Print the concise summary\n",
    "df_marks.info()"
   ]
  },
  {
   "cell_type": "markdown",
   "metadata": {},
   "source": [
    "### Data Preparation"
   ]
  },
  {
   "cell_type": "code",
   "execution_count": null,
   "metadata": {
    "scrolled": true
   },
   "outputs": [],
   "source": [
    "# Compute the number of the null values in each column\n",
    "df_marks.isnull().sum(axis=0)"
   ]
  },
  {
   "cell_type": "markdown",
   "metadata": {},
   "source": [
    "### Data Exploration"
   ]
  },
  {
   "cell_type": "code",
   "execution_count": null,
   "metadata": {},
   "outputs": [],
   "source": [
    "# Plot the growth of the major indexes since 1995\n",
    "\n",
    "df_marks_1995 = df_marks.apply(lambda i: i/i.iloc[0], axis=0)\n",
    "df_marks_1995.plot(figsize=(14,8))\n",
    "# plt.axhline(y=1)\n",
    "# plt.axhline(y=2, linestyle='--', alpha=0.5)\n",
    "# plt.axhline(y=3, linestyle='--', alpha=0.5)\n",
    "# plt.axhline(y=4, linestyle='--', alpha=0.5)\n",
    "plt.show()"
   ]
  },
  {
   "cell_type": "markdown",
   "metadata": {},
   "source": [
    "**Takeaways**\n",
    "1. Today's stock market looks like the dot-com bubble."
   ]
  },
  {
   "cell_type": "code",
   "execution_count": null,
   "metadata": {},
   "outputs": [],
   "source": [
    "# # Save as csv file \n",
    "\n",
    "# database = env.database\n",
    "# df_marks_1995.to_csv(f\"{database}major_indexes.csv\")"
   ]
  },
  {
   "cell_type": "code",
   "execution_count": null,
   "metadata": {
    "scrolled": false
   },
   "outputs": [],
   "source": [
    "# Plot the growths of the major indexes by customizing the start date since 1995\n",
    "\n",
    "print(\"Enter the date:\")\n",
    "start = input()\n",
    "\n",
    "df_marks.loc[start:].apply(lambda i: i/i.iloc[0], axis=0).plot(figsize=(14,8))\n",
    "plt.axhline(y=1, linestyle='--', alpha=0.5)\n",
    "# plt.axhline(y=20000, linestyle='--', alpha=0.5)\n",
    "# plt.axhline(y=30000, linestyle='--', alpha=0.5)\n",
    "# plt.axhline(y=40000, linestyle='--', alpha=0.5)\n",
    "plt.show()"
   ]
  },
  {
   "cell_type": "markdown",
   "metadata": {},
   "source": [
    "**Takeaways**\n",
    "1. The returns on the indexes depends on the where you start to invest."
   ]
  },
  {
   "cell_type": "code",
   "execution_count": null,
   "metadata": {},
   "outputs": [],
   "source": [
    "# Add new columns for year, month, day, and day_name\n",
    "\n",
    "df_marks = df_marks.assign(year = df_marks.index.year, \n",
    "                           month = df_marks.index.month,\n",
    "                           day = df_marks.index.day,\n",
    "                           day_name = df_marks.index.day_name())\n",
    "\n",
    "# Sanity check\n",
    "df_marks.info()"
   ]
  },
  {
   "cell_type": "code",
   "execution_count": null,
   "metadata": {},
   "outputs": [],
   "source": [
    "# Group the observation by year\n",
    "grouped_year = df_marks.groupby('year')\n",
    "\n",
    "# Print the data type\n",
    "type(grouped_year)"
   ]
  },
  {
   "cell_type": "code",
   "execution_count": null,
   "metadata": {
    "scrolled": false
   },
   "outputs": [],
   "source": [
    "# Print all the group names\n",
    "grouped_year.groups.keys()"
   ]
  },
  {
   "cell_type": "code",
   "execution_count": null,
   "metadata": {},
   "outputs": [],
   "source": [
    "# Print all the group names\n",
    "grouped_year.indices.keys()"
   ]
  },
  {
   "cell_type": "markdown",
   "metadata": {},
   "source": [
    "**Takeaways**\n",
    "1. Pandas GroupBy objects have been created.\n",
    "2. The name of each group is its year.\n",
    "3. There are two ways to acess the group names. "
   ]
  },
  {
   "cell_type": "code",
   "execution_count": null,
   "metadata": {},
   "outputs": [],
   "source": [
    "# Construct dataframe from group with provided name\n",
    "# Take year 2000 for example\n",
    "\n",
    "df_marks2000 = grouped_year.get_group(2000)\n",
    "df_marks2000"
   ]
  },
  {
   "cell_type": "code",
   "execution_count": null,
   "metadata": {
    "scrolled": false
   },
   "outputs": [],
   "source": [
    "# Compute the relative prices using the first day of year as the base for year 2000\n",
    "df_marks2000[benchmarks].apply(lambda i: i*10000/i.iloc[1], axis=0)"
   ]
  },
  {
   "cell_type": "code",
   "execution_count": null,
   "metadata": {},
   "outputs": [],
   "source": [
    "# Compute the relative prices for each year\n",
    "\n",
    "# Create a empty dataframe\n",
    "df_marks_relative = pd.DataFrame()\n",
    "\n",
    "# Create a list of years\n",
    "years = list(grouped_year.groups.keys())\n",
    "\n",
    "# For Loop through the years and compute the relative prices\n",
    "\n",
    "for year in years:\n",
    "    df_marks_year = grouped_year.get_group(year)\n",
    "    df_marks_year = df_marks_year[benchmarks].apply(lambda i: i*10000/i.head(1).values, axis=0)\n",
    "    df_marks_relative = pd.concat([df_marks_relative, df_marks_year])\n",
    "    \n",
    "# Sanity check\n",
    "df_marks_relative"
   ]
  },
  {
   "cell_type": "code",
   "execution_count": null,
   "metadata": {},
   "outputs": [],
   "source": [
    "# Add new columns for year, month, day, and day_name\n",
    "\n",
    "df_marks_relative = df_marks_relative.assign(year = df_marks_relative.index.year, \n",
    "                                             month = df_marks_relative.index.month,\n",
    "                                             day = df_marks_relative.index.day,\n",
    "                                             day_name = df_marks_relative.index.day_name())\n",
    "\n",
    "# Sanity check\n",
    "df_marks_relative.info()"
   ]
  },
  {
   "cell_type": "code",
   "execution_count": null,
   "metadata": {
    "scrolled": false
   },
   "outputs": [],
   "source": [
    "# Create the figures grids\n",
    "fig, ax = plt.subplots(2, 2, figsize=(16, 12))\n",
    "\n",
    "# Flatten the figures grids\n",
    "ax = ax.ravel()\n",
    "\n",
    "# Adjust the benchmarks\n",
    "benchmarks = ['S&P500', 'Dow 30', 'Nasdaq Composite', 'Russell 2000']\n",
    "\n",
    "for benchmark in benchmarks:\n",
    "    df_marks_relative.loc[\"2008\": \"2011\"].groupby('month')[benchmark].mean().plot(ax=ax[0], legend=True)\n",
    "    \n",
    "for benchmark in benchmarks:\n",
    "    df_marks_relative.loc[\"2012\": \"2016\"].groupby('month')[benchmark].mean().plot(ax=ax[1], legend=False)\n",
    "    \n",
    "for benchmark in benchmarks:\n",
    "    df_marks_relative.loc[\"2016\": \"2019\"].groupby('month')[benchmark].mean().plot(ax=ax[2], legend=False)\n",
    "    \n",
    "for benchmark in benchmarks:    \n",
    "    df_marks_relative.loc[\"2021\"][benchmark].plot(ax=ax[3], legend=False)\n",
    "\n",
    "ax[0].set_title(\"Obama I\")\n",
    "ax[1].set_title(\"Obama II\")\n",
    "ax[2].set_title(\"Trump\")\n",
    "ax[3].set_title(\"Year 2021\")\n",
    "\n",
    "ax[0].set_xticks([i for i in range(1,13)])\n",
    "ax[1].set_xticks([i for i in range(1,13)])\n",
    "ax[2].set_xticks([i for i in range(1,13)])\n",
    "    \n",
    "plt.show()"
   ]
  },
  {
   "cell_type": "markdown",
   "metadata": {},
   "source": [
    "### Background\n",
    "\n",
    "#### Index Fund\n",
    "An <b>index fund</b> is a type of mutural fund or exchange-traded fund (ETF). It's made up of stocks or bonds attemting to earn the same return as a particular index.\n",
    "\n",
    "Index funds are passively managed, which means that they typically hold waht's in the index (which rarely changes) to maximize returns and minimize costs. \n",
    "\n",
    "#### What is an ETF?\n",
    "An ETF is a fund can be traded on an exchange like a stock, which means they can be bought and sold throughtout the trading day (unlike mutual funds, which are priced at the end of the trading day).\n",
    "\n",
    "An ETF is a type of security that tracks an index, sector, commodity or other asset, but which can be purchased or sold on stock exchange the same as a regular stock.\n",
    "\n",
    "ETF share prices fluctuate all day as the ETF is bought and sold and it is different from mutual funds that only trade once a day after the market closes.\n",
    "#### How an ETF is structured? \n",
    "An ETF can be structured to track anything from the price of an individual commodity to a large and diverse collection of securities. \n",
    "\n",
    "ETFs can contain all types of investments including stocks, commodities, or bonds; some offter U.S. only holdings, while other are international. \n",
    "\n",
    "???Will the structure of ETF change over time???\n",
    "\n",
    "#### Reference\n",
    "- [Investing in Index Funds for Beginners](https://www.thebalance.com/investing-in-index-funds-for-beginners-356318)"
   ]
  },
  {
   "cell_type": "markdown",
   "metadata": {},
   "source": [
    "### Actively Managed ETFs from ARK"
   ]
  },
  {
   "cell_type": "code",
   "execution_count": null,
   "metadata": {},
   "outputs": [],
   "source": [
    "%%time\n",
    "# Create a list of interested stocks\n",
    "arks = ['ARKK', 'ARKQ', 'ARKW', 'ARKG', 'ARKF']\n",
    "\n",
    "# Creata a list of benchmark indexes\n",
    "references = ['^GSPC', '^DJI', '^IXIC', 'VOOG','TSLA']\n",
    "\n",
    "# Define start and end date\n",
    "start_date = '2014-09-30'\n",
    "end_date = date.today()\n",
    "\n",
    "# Acquire their adjusted closing prices from yahoo finance\n",
    "df_arks = acquire.acquire_stock_data(arks+references, 'yahoo', start_date, end_date)\n",
    "\n",
    "# Inspect the dataframe\n",
    "print(df_arks.shape)\n",
    "df_arks.tail()"
   ]
  },
  {
   "cell_type": "code",
   "execution_count": null,
   "metadata": {},
   "outputs": [],
   "source": [
    "# Make a copy of the dataframe\n",
    "df = df_arks.copy()\n",
    "\n",
    "# Print the concise summary of the copied dataframe\n",
    "df.info()"
   ]
  },
  {
   "cell_type": "markdown",
   "metadata": {},
   "source": [
    "**Takeaways**: Those five ETFs have different inception dates."
   ]
  },
  {
   "cell_type": "code",
   "execution_count": null,
   "metadata": {},
   "outputs": [],
   "source": [
    "# Add a new column to compute the average of the 5 active ETFs\n",
    "df = df.assign(arks_avg = df[arks].mean(axis=1))\n",
    "\n",
    "# Sanity check\n",
    "df.tail()"
   ]
  },
  {
   "cell_type": "code",
   "execution_count": null,
   "metadata": {
    "scrolled": false
   },
   "outputs": [],
   "source": [
    "# Plot the prices of the 5 ETFs over time\n",
    "\n",
    "df[arks].plot(figsize=(14,8))\n",
    "plt.ylabel(\"Adjusted Closing Price\")\n",
    "plt.title(\"Change of ARK Actively Managed ETFs' Prices Over Time\")\n",
    "plt.show()"
   ]
  },
  {
   "cell_type": "code",
   "execution_count": null,
   "metadata": {},
   "outputs": [],
   "source": [
    "# Plot the mean over time and zoom in since the beginning of last March\n",
    "\n",
    "# Set up the figure size\n",
    "plt.figure(figsize=(13,8))\n",
    "\n",
    "plt.subplot(121)\n",
    "df.arks_avg.plot()\n",
    "plt.ylabel(\"Adjusted Closing Price\")\n",
    "plt.axvline(x=\"2016-02-15\")\n",
    "plt.axvline(x=\"2018-03-01\")\n",
    "plt.axvline(x=\"2019-10-15\")\n",
    "# Extra plt.show() here will show the two plots in two rows. \n",
    "\n",
    "plt.subplot(122)\n",
    "df.arks_avg.plot()\n",
    "plt.ylabel(\"Adjusted Closing Price\")\n",
    "plt.xlim('2020-03-01', end_date)\n",
    "plt.show()"
   ]
  },
  {
   "cell_type": "markdown",
   "metadata": {},
   "source": [
    "**Takeaways**\n",
    "1. The curve of the mean shows a flat-up-flat-up pattern. \n",
    "2. Since March 2020, the price of the ARK's ETFs increased about 2.5 folds on average. "
   ]
  },
  {
   "cell_type": "code",
   "execution_count": null,
   "metadata": {},
   "outputs": [],
   "source": [
    "# Scale the adjusted closing prices and indexes using today's value as the reference\n",
    "df_scaled = df.apply(lambda i: i*10000/i.tail(1).values, axis=0)\n",
    "\n",
    "# Inspect the scaled dataframe\n",
    "df_scaled.tail()"
   ]
  },
  {
   "cell_type": "code",
   "execution_count": null,
   "metadata": {},
   "outputs": [],
   "source": [
    "# Plot the scaled indexes and the mean of ETFs\n",
    "\n",
    "cols = references + ['arks_avg']\n",
    "\n",
    "df_scaled[cols].plot(figsize=(14,8))\n",
    "plt.axhline(y=10000)\n",
    "plt.ylabel(\"Scaled Indexes and Prices\")\n",
    "plt.show()"
   ]
  },
  {
   "cell_type": "code",
   "execution_count": null,
   "metadata": {},
   "outputs": [],
   "source": [
    "# Plot the scaled indexes and the mean of ETFs since March 2020\n",
    "\n",
    "df_scaled[cols].plot(figsize=(14,8))\n",
    "plt.axhline(y=1.0)\n",
    "plt.xlim(\"2020-03-01\", end_date)\n",
    "plt.show()"
   ]
  },
  {
   "cell_type": "code",
   "execution_count": null,
   "metadata": {},
   "outputs": [],
   "source": [
    "# Plot pairwise relationships in the dataset\n",
    "\n",
    "sns.pairplot(df_scaled[cols], dropna=True)\n",
    "plt.show()"
   ]
  },
  {
   "cell_type": "code",
   "execution_count": null,
   "metadata": {},
   "outputs": [],
   "source": [
    "# Compute the daily returns of the ETFs\n",
    "\n",
    "returns_d = np.log(df/df.shift(1))\n",
    "returns_d.hist(figsize=(16,9), bins=100)\n",
    "plt.show()"
   ]
  },
  {
   "cell_type": "markdown",
   "metadata": {},
   "source": [
    "### Breaking Down ARK ETF Holdings"
   ]
  },
  {
   "cell_type": "code",
   "execution_count": null,
   "metadata": {},
   "outputs": [],
   "source": [
    "# Load the file path\n",
    "database = env.database"
   ]
  },
  {
   "cell_type": "markdown",
   "metadata": {},
   "source": [
    "#### ARKK"
   ]
  },
  {
   "cell_type": "code",
   "execution_count": null,
   "metadata": {},
   "outputs": [],
   "source": [
    "# Load the fund holding for ARKK\n",
    "df_arkk_holdings = pd.read_csv(f\"{database}/arkk_holdings.csv\")\n",
    "\n",
    "# Print the number of holdings\n",
    "print(\"Number of Holdings:\", df_arkk_holdings.shape[0])"
   ]
  },
  {
   "cell_type": "code",
   "execution_count": null,
   "metadata": {},
   "outputs": [],
   "source": [
    "# Print the top 10 holdings\n",
    "df_arkk_holdings.head(10)"
   ]
  },
  {
   "cell_type": "code",
   "execution_count": null,
   "metadata": {},
   "outputs": [],
   "source": [
    "# Print the concise information\n",
    "df_arkk_holdings.info()"
   ]
  },
  {
   "cell_type": "markdown",
   "metadata": {},
   "source": [
    "**Takeaway**\n",
    "1. Comparing with the information of last december, the number of holdings changes from 48 to 59 and the weights(%) of the top 10 holdings also vary. \n",
    "3. Null vlaues are observed in all columns. \n",
    "4. The date is in object format, which may need to change to datetime. "
   ]
  },
  {
   "cell_type": "code",
   "execution_count": null,
   "metadata": {},
   "outputs": [],
   "source": [
    "# Drop the rows with NaN value(s) and correct the wrong ticker\n",
    "df_arkk_holdings = explore.prepare_etf_holdings(df_arkk_holdings)\n",
    "df_arkk_holdings.tail()"
   ]
  },
  {
   "cell_type": "code",
   "execution_count": null,
   "metadata": {},
   "outputs": [],
   "source": [
    "%%time\n",
    "\n",
    "# Define start and end date\n",
    "start_date = '2014-10-31' # When the ARKK commenced operation\n",
    "end_date = date.today()\n",
    "\n",
    "# Compute the reutuns of each stock since its inception date\n",
    "explore.holdings_sum(df_arkk_holdings, start_date, end_date)"
   ]
  },
  {
   "cell_type": "markdown",
   "metadata": {},
   "source": [
    "#### ARKW"
   ]
  },
  {
   "cell_type": "code",
   "execution_count": null,
   "metadata": {},
   "outputs": [],
   "source": [
    "# Load the file path\n",
    "database = env.database\n",
    "\n",
    "# Load the fund holding for ARKK\n",
    "df_arkw_holdings = pd.read_csv(f\"{database}/arkw_holdings.csv\")\n",
    "\n",
    "# Print the number of holdings\n",
    "print(\"Number of Holdings: \", df_arkw_holdings.shape[0])"
   ]
  },
  {
   "cell_type": "code",
   "execution_count": null,
   "metadata": {},
   "outputs": [],
   "source": [
    "# Drop the rows and NaN value(s) and correct the wrong tickers\n",
    "df_arkw_holdings = explore.prepare_etf_holdings(df_arkw_holdings)\n",
    "df_arkw_holdings.tail()"
   ]
  },
  {
   "cell_type": "code",
   "execution_count": null,
   "metadata": {
    "scrolled": false
   },
   "outputs": [],
   "source": [
    "%%time\n",
    "\n",
    "# Define start and end date\n",
    "start_date = '2014-09-30' # When the ARKW commenced operation\n",
    "end_date = date.today()\n",
    "\n",
    "# Compute the reutuns of each stock since its inception date\n",
    "explore.holdings_sum(df_arkw_holdings, start_date, end_date)"
   ]
  },
  {
   "cell_type": "markdown",
   "metadata": {},
   "source": [
    "#### ARKG"
   ]
  },
  {
   "cell_type": "code",
   "execution_count": null,
   "metadata": {
    "scrolled": true
   },
   "outputs": [],
   "source": [
    "# Load the fund holding for ARKK\n",
    "df_arkg_holdings = pd.read_csv(f\"{database}/arkg_holdings.csv\")\n",
    "\n",
    "# Print the number of holdings\n",
    "print(\"Number of Holdings:\", df_arkg_holdings.shape[0])"
   ]
  },
  {
   "cell_type": "code",
   "execution_count": null,
   "metadata": {},
   "outputs": [],
   "source": [
    "# Drop the rows with NaN value(s) and correct the wrong ticker\n",
    "df_arkg_holdings = explore.prepare_etf_holdings(df_arkg_holdings)\n",
    "df_arkg_holdings.tail()"
   ]
  },
  {
   "cell_type": "code",
   "execution_count": null,
   "metadata": {},
   "outputs": [],
   "source": [
    "%%time\n",
    "\n",
    "# Define start and end date\n",
    "start_date = '2014-10-31' # When the ARKG commenced operation\n",
    "end_date = date.today()\n",
    "\n",
    "# Compute the reutuns of each stock since its inception date\n",
    "explore.holdings_sum(df_arkg_holdings, start_date, end_date)"
   ]
  },
  {
   "cell_type": "markdown",
   "metadata": {},
   "source": [
    "## Compute Optimal Weights of ETFs\n",
    "#### Vanguard Information Technology ETF (VGT)\n",
    "- Seeks to track the performance of a benchmark index that measure the investment return of stocks in the information technology sector.\n",
    "- 341 Holdings in total and inception date: 2004-01-26\n",
    "- Top 10 Holdings: Apple, Microsoft, NVIDIA, Visa, Mastercard, Paypal, Intel, Adobe, Salesforce, Broadcom\n",
    "- Expense ratio: 0.10%\n",
    "\n",
    "#### Vanguard S&P 500 Growth Index Fund ETF Shares (VOOG)\n",
    "- Invests in stocks in the S&P500 Grwoth Index (233/233), composed of the growth companies in the S&P 500. \n",
    "- 233 holdings in total and inception date: 2010-09-07\n",
    "- Top 10 holdings(50.50%): Apple, Microsoft, Amazon, Alphabet, Facebook, Tesla, NVIDIA, Paypal, Netflix, Adobe\n",
    "- Expense ratio: 0.10%\n",
    "\n",
    "#### Vanguard Russell 1000 Growth ETF (VONG)\n",
    "- Invest in stocks in the Russell 1000 Growth Index, a broadly diversified index predominantly made up of growth stocks of large U.S. Companies.\n",
    "- 459 holdings and inception date: 2010-09-20\n",
    "- Top 10 holdings(45.90%): Apple, Microsoft, Amazon, Alphabet, Facebook, Tesla, Visa, NVIDIA, Mastercard, PayPal\n",
    "- Expense ratio: 0.08%\n",
    "\n",
    "#### Invesco QQQ (QQQ)\n",
    "- An exchange-traded fund that tracks the Nasdaq-100 index. The index includes the 100 largest non-financial companies listed on the Nasdaq based on market cap. \n",
    "- rated the best-perfoming large-cap growth fund (1 of 327) based on total return over the past 15 years by Lipper, as of Dec 31, 2020.\n",
    "- 103 holdings and inception date: 1999-03-10\n",
    "- Top 10 holdings(51.12%): Apple, Microsoft, Amazon, Tesla, Facebook, Alphabet, Alphabet, NVIDIA, Paypal, Intel"
   ]
  },
  {
   "cell_type": "markdown",
   "metadata": {},
   "source": [
    "### Summary of the Interested ETFs"
   ]
  },
  {
   "cell_type": "code",
   "execution_count": null,
   "metadata": {},
   "outputs": [],
   "source": [
    "# Define the index and columns of the dataframe\n",
    "\n",
    "etfs = ['VGT', 'VOOG', 'VONG', 'QQQ', 'BND']\n",
    "cols = ['full_name', 'benchmark', 'num_of_holdings', 'inception_date', 'expense_ratio(%)']\n",
    "\n",
    "df_sum = pd.DataFrame(index=etfs, columns=cols)\n",
    "\n",
    "df_sum.loc['VGT'] = pd.Series({'full_name': 'Vanguard Information Technology ETF',\n",
    "                           'benchmark': 'MSCI US IMI Info Technology 25/50', \n",
    "                           'num_of_holdings': 341,\n",
    "                           'inception_date': '2004-01-26',\n",
    "                           'expense_ratio(%)': 0.10})\n",
    "\n",
    "df_sum.loc['VOOG'] = pd.Series({'full_name': 'Vanguard S&P 500 Growth ETF',\n",
    "                           'benchmark': 'S&P 500 Growth Index', \n",
    "                           'num_of_holdings': 233,\n",
    "                           'inception_date': '2010-09-07',\n",
    "                           'expense_ratio(%)': 0.10})\n",
    "\n",
    "df_sum.loc['VONG'] = pd.Series({'full_name': 'Vanguard Russell 1000 Growth ETF',\n",
    "                           'benchmark': 'Russell 1000 Growth Index', \n",
    "                           'num_of_holdings': 459,\n",
    "                           'inception_date': '2010-09-20',\n",
    "                           'expense_ratio(%)': 0.08})\n",
    "\n",
    "df_sum.loc['QQQ'] = pd.Series({'full_name': 'Invesco QQQ',\n",
    "                           'benchmark': 'Nasdaq-100 Index', \n",
    "                           'num_of_holdings': 102,\n",
    "                           'inception_date': '1999-03-10',\n",
    "                           'expense_ratio(%)': 0.20})\n",
    "\n",
    "df_sum.loc['BND'] = pd.Series({'full_name': 'Vanguard Total Bond Market ETF',\n",
    "                           'benchmark': 'BloomBarc US Agg Float Adj Index', \n",
    "                           'num_of_holdings': 10074,\n",
    "                           'inception_date': '2007-04-03',\n",
    "                           'expense_ratio(%)': 0.035})\n",
    "\n",
    "df_sum"
   ]
  },
  {
   "cell_type": "code",
   "execution_count": null,
   "metadata": {},
   "outputs": [],
   "source": [
    "# Create a dataframe for the top 10 holdings for the stock ETFs as of 03/23/2021\n",
    "\n",
    "df_top10 = pd.DataFrame({'VGT': ['Apple', 'Microsoft', 'NVIDIA', 'Visa', 'Mastercard', \n",
    "                                 'Paypal', 'Intel', 'Adobe', 'Salesforce', 'Broadcom'], \n",
    "                         'VOOG': ['Apple', 'Microsoft', 'Amazon', 'Alphabet', 'Facebook', \n",
    "                                  'Tesla', 'NVIDIA', 'Paypal', 'Netflix', 'Adobe'], \n",
    "                         'VONG': ['Apple', 'Microsoft', 'Amazon', 'Alphabet', 'Facebook', \n",
    "                                  'Tesla', 'Visa', 'NVIDIA', 'Mastercard', 'PayPal'], \n",
    "                         'QQQ': ['Apple', 'Microsoft', 'Amazon', 'Tesla', 'Facebook', \n",
    "                                 'Alphabet', 'Alphabet', 'NVIDIA', 'Paypal', 'Intel']})\n",
    "\n",
    "df_top10"
   ]
  },
  {
   "cell_type": "markdown",
   "metadata": {},
   "source": [
    "### Acquire Historical Data"
   ]
  },
  {
   "cell_type": "code",
   "execution_count": null,
   "metadata": {},
   "outputs": [],
   "source": [
    "etfs = ['VGT', 'VOOG', 'VONG', 'QQQ', 'BND']\n",
    "\n",
    "# Set up the start and end dates\n",
    "\n",
    "start_date = '2010-09-20'\n",
    "end_date = date.today()\n",
    "\n",
    "# Download the historical data of the interested stocks\n",
    "df_etfs = acquire.acquire_stock_data(etfs, 'yahoo', start_date, end_date)\n",
    "\n",
    "# Take a quick peek at the data\n",
    "df_etfs.head()"
   ]
  },
  {
   "cell_type": "code",
   "execution_count": null,
   "metadata": {},
   "outputs": [],
   "source": [
    "# Drop the rows with NaN values\n",
    "\n",
    "df_etfs = df_etfs.loc[\"2010-09-22\":]\n",
    "df_etfs.head()"
   ]
  },
  {
   "cell_type": "code",
   "execution_count": null,
   "metadata": {},
   "outputs": [],
   "source": [
    "# Print the concise information\n",
    "df_etfs.info()"
   ]
  },
  {
   "cell_type": "code",
   "execution_count": null,
   "metadata": {},
   "outputs": [],
   "source": [
    "# Plot their returns if I invest $1 on 2010-09-22\n",
    "\n",
    "df_etfs.apply(lambda i: i/i.head(1).values, axis=0).plot(figsize=(13,7))\n",
    "plt.show()"
   ]
  },
  {
   "cell_type": "markdown",
   "metadata": {},
   "source": [
    "**Takeaways**\n",
    "1. Apparently, this 5 ETFs can be divied into three groups based on the returns:\n",
    "- Group 1: VGT and QQQ\n",
    "- Group 2: VOOG and VONG\n",
    "- Group 3: BND"
   ]
  },
  {
   "cell_type": "code",
   "execution_count": null,
   "metadata": {},
   "outputs": [],
   "source": [
    "# Create a set of top 10 holdings for the 4 ETFs \n",
    "VGT = set(df_top10.VGT)\n",
    "VOOG = set(df_top10.VOOG)\n",
    "VONG = set(df_top10.VONG)\n",
    "QQQ = set(df_top10.QQQ)\n",
    "\n",
    "# The common stocks in the top 10 holdings of 2 ETFs: VOOG and VONG\n",
    "print(\"VONG & VOOG:\")\n",
    "print(VONG & VOOG)\n",
    "\n",
    "# The common stocks in the top 10 holdings of 2 ETFs: VGT and VOOG\n",
    "print('VGT & VOOG')\n",
    "print(VGT & VOOG)\n",
    "\n",
    "# The common stocks in the top 10 holdings of 2 ETFs: QQQ and VOOG\n",
    "print('QQQ & VOOG')\n",
    "print(QQQ & VOOG)\n",
    "\n",
    "# Compute the common stocks in the top 10 holdings of VGT and QQQ\n",
    "print('VGT&QQQ')\n",
    "print(VGT&QQQ)"
   ]
  },
  {
   "cell_type": "code",
   "execution_count": null,
   "metadata": {},
   "outputs": [],
   "source": [
    "# Enter the end data\n",
    "\n",
    "print(\"Enter the end date in yyyy-mm-dd:\")\n",
    "end_date = input()\n",
    "\n",
    "data = df_etfs.loc[: end_date]\n",
    "data.info()"
   ]
  },
  {
   "cell_type": "code",
   "execution_count": null,
   "metadata": {},
   "outputs": [],
   "source": [
    "# Plot their returns on 2019-12-31 if I invest $1 on 2010-09-22\n",
    "\n",
    "data.apply(lambda i: i/i.head(1).values, axis=0).plot(figsize=(13,7))\n",
    "plt.show()"
   ]
  },
  {
   "cell_type": "code",
   "execution_count": null,
   "metadata": {
    "scrolled": false
   },
   "outputs": [],
   "source": [
    "optimal_weights.possible_optimal_weight(data, etfs)"
   ]
  }
 ],
 "metadata": {
  "kernelspec": {
   "display_name": "Python 3",
   "language": "python",
   "name": "python3"
  },
  "language_info": {
   "codemirror_mode": {
    "name": "ipython",
    "version": 3
   },
   "file_extension": ".py",
   "mimetype": "text/x-python",
   "name": "python",
   "nbconvert_exporter": "python",
   "pygments_lexer": "ipython3",
   "version": "3.7.6"
  }
 },
 "nbformat": 4,
 "nbformat_minor": 4
}
