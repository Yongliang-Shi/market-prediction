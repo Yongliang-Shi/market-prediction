{
 "cells": [
  {
   "cell_type": "code",
   "execution_count": 1,
   "metadata": {},
   "outputs": [],
   "source": [
    "# General libraries\n",
    "import numpy as np\n",
    "import pandas as pd\n",
    "import matplotlib.pyplot as plt\n",
    "import seaborn as sns\n",
    "\n",
    "# Datetime library\n",
    "from datetime import date\n",
    "\n",
    "# Environment File\n",
    "import env\n",
    "\n",
    "# Database path\n",
    "database = env.database\n",
    "\n",
    "# Helper functions\n",
    "import acquire, explore\n",
    "\n",
    "# Create A Progressive Bar for Loop Operation \n",
    "from tqdm.notebook import tqdm"
   ]
  },
  {
   "cell_type": "markdown",
   "metadata": {},
   "source": [
    "### Data Acquisition"
   ]
  },
  {
   "cell_type": "code",
   "execution_count": 120,
   "metadata": {},
   "outputs": [
    {
     "name": "stdout",
     "output_type": "stream",
     "text": [
      "<class 'pandas.core.frame.DataFrame'>\n",
      "Int64Index: 7566 entries, 0 to 273\n",
      "Data columns (total 12 columns):\n",
      " #   Column          Non-Null Count  Dtype  \n",
      "---  ------          --------------  -----  \n",
      " 0   Symbol          7566 non-null   object \n",
      " 1   Name            7566 non-null   object \n",
      " 2   Last Sale       7566 non-null   object \n",
      " 3   Net Change      7566 non-null   float64\n",
      " 4   % Change        7548 non-null   object \n",
      " 5   Market Cap      7069 non-null   float64\n",
      " 6   Country         6946 non-null   object \n",
      " 7   IPO Year        4285 non-null   float64\n",
      " 8   Volume          7566 non-null   int64  \n",
      " 9   Sector          5487 non-null   object \n",
      " 10  Industry        5486 non-null   object \n",
      " 11  stock_exchange  7566 non-null   object \n",
      "dtypes: float64(3), int64(1), object(8)\n",
      "memory usage: 768.4+ KB\n"
     ]
    }
   ],
   "source": [
    "# Print the concise summary of the dataframe\n",
    "df.info()"
   ]
  },
  {
   "cell_type": "code",
   "execution_count": 121,
   "metadata": {},
   "outputs": [
    {
     "data": {
      "text/plain": [
       "NASDAQ    4181\n",
       "NYSE      3111\n",
       "AMEX       274\n",
       "Name: stock_exchange, dtype: int64"
      ]
     },
     "execution_count": 121,
     "metadata": {},
     "output_type": "execute_result"
    }
   ],
   "source": [
    "# Sanity check\n",
    "df[\"stock_exchange\"].value_counts()"
   ]
  },
  {
   "cell_type": "markdown",
   "metadata": {},
   "source": [
    "**Takeaways**\n",
    "- Missing values are found in Columns: \n",
    "    - `% Change`\n",
    "    - `Market Cap`\n",
    "    - `Country`\n",
    "    - `IOP Year`\n",
    "    - `Volume`\n",
    "    - `Sector`\n",
    "    - `Industry`\n",
    "- The column names needs to be cleaned."
   ]
  },
  {
   "cell_type": "markdown",
   "metadata": {},
   "source": [
    "#### How many sectors in the US stock market and what are they?"
   ]
  },
  {
   "cell_type": "code",
   "execution_count": 122,
   "metadata": {},
   "outputs": [
    {
     "data": {
      "text/plain": [
       "12"
      ]
     },
     "execution_count": 122,
     "metadata": {},
     "output_type": "execute_result"
    }
   ],
   "source": [
    "df['Sector'].nunique()"
   ]
  },
  {
   "cell_type": "code",
   "execution_count": 123,
   "metadata": {},
   "outputs": [
    {
     "data": {
      "text/plain": [
       "Finance                  1419\n",
       "Health Care              1001\n",
       "Consumer Services         691\n",
       "Technology                689\n",
       "Capital Goods             430\n",
       "Energy                    220\n",
       "Public Utilities          205\n",
       "Basic Industries          205\n",
       "Consumer Non-Durables     202\n",
       "Miscellaneous             173\n",
       "Consumer Durables         133\n",
       "Transportation            119\n",
       "Name: Sector, dtype: int64"
      ]
     },
     "execution_count": 123,
     "metadata": {},
     "output_type": "execute_result"
    }
   ],
   "source": [
    "df['Sector'].value_counts()"
   ]
  },
  {
   "cell_type": "markdown",
   "metadata": {},
   "source": [
    "#### How many industries in the US stock market and what are they?"
   ]
  },
  {
   "cell_type": "code",
   "execution_count": 124,
   "metadata": {},
   "outputs": [
    {
     "data": {
      "text/plain": [
       "141"
      ]
     },
     "execution_count": 124,
     "metadata": {},
     "output_type": "execute_result"
    }
   ],
   "source": [
    "df['Industry'].nunique()"
   ]
  },
  {
   "cell_type": "code",
   "execution_count": 125,
   "metadata": {},
   "outputs": [
    {
     "data": {
      "text/plain": [
       "Business Services                          592\n",
       "Major Pharmaceuticals                      531\n",
       "Major Banks                                329\n",
       "Real Estate Investment Trusts              246\n",
       "EDP Services                               212\n",
       "Computer Software: Prepackaged Software    150\n",
       "Industrial Machinery/Components            145\n",
       "Oil & Gas Production                       133\n",
       "Telecommunications Equipment               107\n",
       "Medical/Dental Instruments                 101\n",
       "Name: Industry, dtype: int64"
      ]
     },
     "execution_count": 125,
     "metadata": {},
     "output_type": "execute_result"
    }
   ],
   "source": [
    "df['Industry'].value_counts().head(10)"
   ]
  },
  {
   "cell_type": "markdown",
   "metadata": {},
   "source": [
    "### Select SPY as the Baseline and Compute Its CAGR"
   ]
  },
  {
   "cell_type": "code",
   "execution_count": 2,
   "metadata": {
    "scrolled": false
   },
   "outputs": [
    {
     "name": "stdout",
     "output_type": "stream",
     "text": [
      "CPU times: user 191 ms, sys: 50.8 ms, total: 242 ms\n",
      "Wall time: 1.16 s\n"
     ]
    },
    {
     "data": {
      "text/plain": [
       "Date\n",
       "2008-12-31     70.656677\n",
       "2009-01-02     72.786407\n",
       "2009-01-05     72.700264\n",
       "2009-01-06     73.185722\n",
       "2009-01-07     70.993355\n",
       "                 ...    \n",
       "2019-12-24    314.311646\n",
       "2019-12-26    315.984802\n",
       "2019-12-27    315.906494\n",
       "2019-12-30    314.164856\n",
       "2019-12-31    314.928040\n",
       "Name: Adj Close, Length: 2769, dtype: float64"
      ]
     },
     "execution_count": 2,
     "metadata": {},
     "output_type": "execute_result"
    }
   ],
   "source": [
    "%%time\n",
    "\n",
    "# Specify the start and end date\n",
    "\n",
    "start_date = \"2008-12-31\" # year-end adjusted closing price\n",
    "end_date = \"2019-12-31\"\n",
    "\n",
    "# Acquire the adjusted price of SPY from yahoo finance\n",
    "spy = acquire.acquire_stock_adjclosing('SPY', start_date, end_date)\n",
    "\n",
    "# Inspect the data\n",
    "spy"
   ]
  },
  {
   "cell_type": "code",
   "execution_count": 3,
   "metadata": {},
   "outputs": [
    {
     "data": {
      "text/plain": [
       "0.1455268777592824"
      ]
     },
     "execution_count": 3,
     "metadata": {},
     "output_type": "execute_result"
    }
   ],
   "source": [
    "# Compute the begining and ending balances\n",
    "\n",
    "bb = spy.head(1).values[0]\n",
    "eb = spy.tail(1).values[0]\n",
    "\n",
    "# Compute the CAGR of SPY\n",
    "\n",
    "spy_cagr = (eb/bb)**(1/11) - 1\n",
    "spy_cagr"
   ]
  },
  {
   "cell_type": "markdown",
   "metadata": {},
   "source": [
    "### Compute the CAGRs in Batches"
   ]
  },
  {
   "cell_type": "code",
   "execution_count": 31,
   "metadata": {},
   "outputs": [
    {
     "data": {
      "application/vnd.jupyter.widget-view+json": {
       "model_id": "4e56281fef424c0983849e96f75497e0",
       "version_major": 2,
       "version_minor": 0
      },
      "text/plain": [
       "  0%|          | 0/4 [00:00<?, ?it/s]"
      ]
     },
     "metadata": {},
     "output_type": "display_data"
    },
    {
     "name": "stdout",
     "output_type": "stream",
     "text": [
      "CAGR of UNH:  21.89%\n",
      "CAGR of NKE:  16.55%\n",
      "CPU times: user 446 ms, sys: 43.7 ms, total: 489 ms\n",
      "Wall time: 4.33 s\n"
     ]
    },
    {
     "data": {
      "text/html": [
       "<div>\n",
       "<style scoped>\n",
       "    .dataframe tbody tr th:only-of-type {\n",
       "        vertical-align: middle;\n",
       "    }\n",
       "\n",
       "    .dataframe tbody tr th {\n",
       "        vertical-align: top;\n",
       "    }\n",
       "\n",
       "    .dataframe thead th {\n",
       "        text-align: right;\n",
       "    }\n",
       "</style>\n",
       "<table border=\"1\" class=\"dataframe\">\n",
       "  <thead>\n",
       "    <tr style=\"text-align: right;\">\n",
       "      <th></th>\n",
       "      <th>symbol</th>\n",
       "      <th>CAGR</th>\n",
       "    </tr>\n",
       "  </thead>\n",
       "  <tbody>\n",
       "    <tr>\n",
       "      <th>0</th>\n",
       "      <td>UNH</td>\n",
       "      <td>0.218902</td>\n",
       "    </tr>\n",
       "    <tr>\n",
       "      <th>1</th>\n",
       "      <td>COST</td>\n",
       "      <td>0.121654</td>\n",
       "    </tr>\n",
       "    <tr>\n",
       "      <th>2</th>\n",
       "      <td>NKE</td>\n",
       "      <td>0.165457</td>\n",
       "    </tr>\n",
       "  </tbody>\n",
       "</table>\n",
       "</div>"
      ],
      "text/plain": [
       "  symbol      CAGR\n",
       "0    UNH  0.218902\n",
       "1   COST  0.121654\n",
       "2    NKE  0.165457"
      ]
     },
     "execution_count": 31,
     "metadata": {},
     "output_type": "execute_result"
    }
   ],
   "source": [
    "%%time\n",
    "\n",
    "# Create an empty list to hold the stock ticker\n",
    "symbol=[]\n",
    "\n",
    "# Create an empty list to hold the CAGR of stocks\n",
    "cagr=[]\n",
    "\n",
    "for i in tqdm(['UNH', 'COST', 'NKE', 'VOOG']):\n",
    "    \n",
    "    start_date = \"1998-12-31\"\n",
    "    end_date = \"2019-12-31\"\n",
    "    \n",
    "    stock = acquire.acquire_stock_adjclosing(i, start_date, end_date)    \n",
    "    \n",
    "    if stock.index[0].strftime(\"%Y-%m-%d\") != '1998-12-31':\n",
    "        continue\n",
    "    else:\n",
    "        eb = stock.tail(1).values[0]\n",
    "        bb = stock.head(1).values[0]\n",
    "        stock_cagr = (eb/bb)**(1/21) - 1        \n",
    "        symbol.append(i)\n",
    "        cagr.append(stock_cagr)\n",
    "        \n",
    "        if stock_cagr > 0.15:\n",
    "            print(f\"CAGR of {i}: {stock_cagr: .2%}\")\n",
    "#             print(f\"First date: {stock.index[0]}\")\n",
    "        \n",
    "dic_cagr = {'symbol': symbol, 'CAGR': cagr}\n",
    "df_cagr = pd.DataFrame.from_dict(dic_cagr)\n",
    "df_cagr"
   ]
  },
  {
   "cell_type": "code",
   "execution_count": 38,
   "metadata": {},
   "outputs": [],
   "source": [
    "def compute_CAGR(tickers):\n",
    "    '''\n",
    "    The function asks the user's input of start and end year and computes the \n",
    "    compound annual growth rate (CARG) of interested stocks.\n",
    "    '''\n",
    "    # Create an empty list to hold the stock ticker\n",
    "    symbol=[]\n",
    "    # Create an empty list to hold the CAGR of stocks\n",
    "    cagr=[]\n",
    "    # Enter the start year and end year\n",
    "    start_year = input()\n",
    "    end_year = input()\n",
    "    # Compute the number of years\n",
    "    year_diff = int(end_year) - int(start_year) + 1\n",
    "    # Compute the start date and end date\n",
    "    start_year = str(int(start_year)-1)\n",
    "    start_date = start_year + \"-12-31\"\n",
    "    end_date = end_year + \"-12-31\"\n",
    "    # Iterate through the tickers and compute their CAGRs\n",
    "    for i in tqdm(tickers):\n",
    "        try:\n",
    "            stock = acquire.acquire_stock_adjclosing(i, start_date, end_date)\n",
    "        except (IOError, KeyError):\n",
    "            continue\n",
    "        if stock.index[0].strftime(\"%Y-%m-%d\") != start_date:\n",
    "            continue\n",
    "        else:\n",
    "            eb = stock.tail(1).values[0]\n",
    "            bb = stock.head(1).values[0]\n",
    "            stock_cagr = (eb/bb)**(1/year_diff) - 1\n",
    "            symbol.append(i)\n",
    "            cagr.append(stock_cagr)\n",
    "            if stock_cagr > 0.20: # Print out the stock of which CAGR is greater than 20%\n",
    "                print(f\"CAGR of {i}: {stock_cagr: .2%}\")\n",
    "    # Save the results\n",
    "    dic_cagr = {'symbol': symbol, 'CAGR': cagr}\n",
    "    df_cagr = pd.DataFrame(dic_cagr)\n",
    "    # Return the dataframe\n",
    "    return df_cagr"
   ]
  },
  {
   "cell_type": "code",
   "execution_count": 39,
   "metadata": {},
   "outputs": [
    {
     "name": "stdout",
     "output_type": "stream",
     "text": [
      "1999\n",
      "2019\n"
     ]
    },
    {
     "data": {
      "application/vnd.jupyter.widget-view+json": {
       "model_id": "e317220c64714ff9b8008da24c6b1a5c",
       "version_major": 2,
       "version_minor": 0
      },
      "text/plain": [
       "  0%|          | 0/4 [00:00<?, ?it/s]"
      ]
     },
     "metadata": {},
     "output_type": "display_data"
    },
    {
     "name": "stdout",
     "output_type": "stream",
     "text": [
      "CAGR of UNH:  21.89%\n"
     ]
    },
    {
     "data": {
      "text/html": [
       "<div>\n",
       "<style scoped>\n",
       "    .dataframe tbody tr th:only-of-type {\n",
       "        vertical-align: middle;\n",
       "    }\n",
       "\n",
       "    .dataframe tbody tr th {\n",
       "        vertical-align: top;\n",
       "    }\n",
       "\n",
       "    .dataframe thead th {\n",
       "        text-align: right;\n",
       "    }\n",
       "</style>\n",
       "<table border=\"1\" class=\"dataframe\">\n",
       "  <thead>\n",
       "    <tr style=\"text-align: right;\">\n",
       "      <th></th>\n",
       "      <th>symbol</th>\n",
       "      <th>CAGR</th>\n",
       "    </tr>\n",
       "  </thead>\n",
       "  <tbody>\n",
       "    <tr>\n",
       "      <th>0</th>\n",
       "      <td>UNH</td>\n",
       "      <td>0.218902</td>\n",
       "    </tr>\n",
       "    <tr>\n",
       "      <th>1</th>\n",
       "      <td>COST</td>\n",
       "      <td>0.121654</td>\n",
       "    </tr>\n",
       "    <tr>\n",
       "      <th>2</th>\n",
       "      <td>NKE</td>\n",
       "      <td>0.165457</td>\n",
       "    </tr>\n",
       "  </tbody>\n",
       "</table>\n",
       "</div>"
      ],
      "text/plain": [
       "  symbol      CAGR\n",
       "0    UNH  0.218902\n",
       "1   COST  0.121654\n",
       "2    NKE  0.165457"
      ]
     },
     "execution_count": 39,
     "metadata": {},
     "output_type": "execute_result"
    }
   ],
   "source": [
    "# Test the function\n",
    "compute_CAGR(['UNH', 'COST', 'NKE', 'VOOG'])"
   ]
  },
  {
   "cell_type": "code",
   "execution_count": 41,
   "metadata": {},
   "outputs": [
    {
     "data": {
      "text/html": [
       "<div>\n",
       "<style scoped>\n",
       "    .dataframe tbody tr th:only-of-type {\n",
       "        vertical-align: middle;\n",
       "    }\n",
       "\n",
       "    .dataframe tbody tr th {\n",
       "        vertical-align: top;\n",
       "    }\n",
       "\n",
       "    .dataframe thead th {\n",
       "        text-align: right;\n",
       "    }\n",
       "</style>\n",
       "<table border=\"1\" class=\"dataframe\">\n",
       "  <thead>\n",
       "    <tr style=\"text-align: right;\">\n",
       "      <th></th>\n",
       "      <th>Symbol</th>\n",
       "      <th>Name</th>\n",
       "      <th>Last Sale</th>\n",
       "      <th>Net Change</th>\n",
       "      <th>% Change</th>\n",
       "      <th>Market Cap</th>\n",
       "      <th>Country</th>\n",
       "      <th>IPO Year</th>\n",
       "      <th>Volume</th>\n",
       "      <th>Sector</th>\n",
       "      <th>Industry</th>\n",
       "      <th>stock_exchange</th>\n",
       "    </tr>\n",
       "  </thead>\n",
       "  <tbody>\n",
       "    <tr>\n",
       "      <th>0</th>\n",
       "      <td>A</td>\n",
       "      <td>Agilent Technologies Inc. Common Stock</td>\n",
       "      <td>$133.90</td>\n",
       "      <td>1.5000</td>\n",
       "      <td>1.133%</td>\n",
       "      <td>4.079900e+10</td>\n",
       "      <td>United States</td>\n",
       "      <td>1999.0</td>\n",
       "      <td>1028964</td>\n",
       "      <td>Capital Goods</td>\n",
       "      <td>Electrical Products</td>\n",
       "      <td>NYSE</td>\n",
       "    </tr>\n",
       "    <tr>\n",
       "      <th>1</th>\n",
       "      <td>AA</td>\n",
       "      <td>Alcoa Corporation Common Stock</td>\n",
       "      <td>$41.20</td>\n",
       "      <td>1.3100</td>\n",
       "      <td>3.284%</td>\n",
       "      <td>7.693059e+09</td>\n",
       "      <td>NaN</td>\n",
       "      <td>2016.0</td>\n",
       "      <td>4811870</td>\n",
       "      <td>Basic Industries</td>\n",
       "      <td>Metal Fabrications</td>\n",
       "      <td>NYSE</td>\n",
       "    </tr>\n",
       "    <tr>\n",
       "      <th>2</th>\n",
       "      <td>AAC</td>\n",
       "      <td>Ares Acquisition Corporation Class A Ordinary ...</td>\n",
       "      <td>$9.825</td>\n",
       "      <td>0.0150</td>\n",
       "      <td>0.153%</td>\n",
       "      <td>1.228248e+09</td>\n",
       "      <td>NaN</td>\n",
       "      <td>2021.0</td>\n",
       "      <td>95765</td>\n",
       "      <td>Finance</td>\n",
       "      <td>Business Services</td>\n",
       "      <td>NYSE</td>\n",
       "    </tr>\n",
       "    <tr>\n",
       "      <th>3</th>\n",
       "      <td>AAIC</td>\n",
       "      <td>Arlington Asset Investment Corp Class A (new)</td>\n",
       "      <td>$4.11</td>\n",
       "      <td>0.0300</td>\n",
       "      <td>0.735%</td>\n",
       "      <td>1.376077e+08</td>\n",
       "      <td>United States</td>\n",
       "      <td>NaN</td>\n",
       "      <td>414108</td>\n",
       "      <td>Consumer Services</td>\n",
       "      <td>Real Estate Investment Trusts</td>\n",
       "      <td>NYSE</td>\n",
       "    </tr>\n",
       "    <tr>\n",
       "      <th>4</th>\n",
       "      <td>AAIC^B</td>\n",
       "      <td>Arlington Asset Investment Corp 7.00%</td>\n",
       "      <td>$24.7057</td>\n",
       "      <td>0.2057</td>\n",
       "      <td>0.84%</td>\n",
       "      <td>NaN</td>\n",
       "      <td>United States</td>\n",
       "      <td>NaN</td>\n",
       "      <td>200</td>\n",
       "      <td>NaN</td>\n",
       "      <td>NaN</td>\n",
       "      <td>NYSE</td>\n",
       "    </tr>\n",
       "  </tbody>\n",
       "</table>\n",
       "</div>"
      ],
      "text/plain": [
       "   Symbol                                               Name Last Sale  \\\n",
       "0       A             Agilent Technologies Inc. Common Stock   $133.90   \n",
       "1      AA                    Alcoa Corporation Common Stock     $41.20   \n",
       "2     AAC  Ares Acquisition Corporation Class A Ordinary ...    $9.825   \n",
       "3    AAIC      Arlington Asset Investment Corp Class A (new)     $4.11   \n",
       "4  AAIC^B             Arlington Asset Investment Corp 7.00%   $24.7057   \n",
       "\n",
       "   Net Change % Change    Market Cap        Country  IPO Year   Volume  \\\n",
       "0      1.5000   1.133%  4.079900e+10  United States    1999.0  1028964   \n",
       "1      1.3100   3.284%  7.693059e+09            NaN    2016.0  4811870   \n",
       "2      0.0150   0.153%  1.228248e+09            NaN    2021.0    95765   \n",
       "3      0.0300   0.735%  1.376077e+08  United States       NaN   414108   \n",
       "4      0.2057    0.84%           NaN  United States       NaN      200   \n",
       "\n",
       "              Sector                       Industry stock_exchange  \n",
       "0      Capital Goods            Electrical Products           NYSE  \n",
       "1   Basic Industries             Metal Fabrications           NYSE  \n",
       "2            Finance              Business Services           NYSE  \n",
       "3  Consumer Services  Real Estate Investment Trusts           NYSE  \n",
       "4                NaN                            NaN           NYSE  "
      ]
     },
     "execution_count": 41,
     "metadata": {},
     "output_type": "execute_result"
    }
   ],
   "source": [
    "# Read all the stocks from the US exchanges\n",
    "\n",
    "df = pd.read_csv(f\"{database}usstockexchanges_050721.csv\", index_col=0)\n",
    "df.head()"
   ]
  },
  {
   "cell_type": "code",
   "execution_count": 48,
   "metadata": {},
   "outputs": [
    {
     "name": "stdout",
     "output_type": "stream",
     "text": [
      "1999\n",
      "2009\n"
     ]
    },
    {
     "data": {
      "application/vnd.jupyter.widget-view+json": {
       "model_id": "ecf4f90fa3c04c33a2bd0ca61c85e0ca",
       "version_major": 2,
       "version_minor": 0
      },
      "text/plain": [
       "  0%|          | 0/30 [00:00<?, ?it/s]"
      ]
     },
     "metadata": {},
     "output_type": "display_data"
    },
    {
     "name": "stdout",
     "output_type": "stream",
     "text": [
      "CAGR of ABEV:  28.61%\n"
     ]
    },
    {
     "data": {
      "text/html": [
       "<div>\n",
       "<style scoped>\n",
       "    .dataframe tbody tr th:only-of-type {\n",
       "        vertical-align: middle;\n",
       "    }\n",
       "\n",
       "    .dataframe tbody tr th {\n",
       "        vertical-align: top;\n",
       "    }\n",
       "\n",
       "    .dataframe thead th {\n",
       "        text-align: right;\n",
       "    }\n",
       "</style>\n",
       "<table border=\"1\" class=\"dataframe\">\n",
       "  <thead>\n",
       "    <tr style=\"text-align: right;\">\n",
       "      <th></th>\n",
       "      <th>symbol</th>\n",
       "      <th>CAGR</th>\n",
       "    </tr>\n",
       "  </thead>\n",
       "  <tbody>\n",
       "    <tr>\n",
       "      <th>0</th>\n",
       "      <td>AA</td>\n",
       "      <td>0.008402</td>\n",
       "    </tr>\n",
       "    <tr>\n",
       "      <th>1</th>\n",
       "      <td>AAIC</td>\n",
       "      <td>-0.151093</td>\n",
       "    </tr>\n",
       "    <tr>\n",
       "      <th>2</th>\n",
       "      <td>AB</td>\n",
       "      <td>0.071311</td>\n",
       "    </tr>\n",
       "    <tr>\n",
       "      <th>3</th>\n",
       "      <td>ABC</td>\n",
       "      <td>0.118394</td>\n",
       "    </tr>\n",
       "    <tr>\n",
       "      <th>4</th>\n",
       "      <td>ABEV</td>\n",
       "      <td>0.286126</td>\n",
       "    </tr>\n",
       "    <tr>\n",
       "      <th>5</th>\n",
       "      <td>ABM</td>\n",
       "      <td>0.040033</td>\n",
       "    </tr>\n",
       "    <tr>\n",
       "      <th>6</th>\n",
       "      <td>ABT</td>\n",
       "      <td>0.045239</td>\n",
       "    </tr>\n",
       "  </tbody>\n",
       "</table>\n",
       "</div>"
      ],
      "text/plain": [
       "  symbol      CAGR\n",
       "0     AA  0.008402\n",
       "1   AAIC -0.151093\n",
       "2     AB  0.071311\n",
       "3    ABC  0.118394\n",
       "4   ABEV  0.286126\n",
       "5    ABM  0.040033\n",
       "6    ABT  0.045239"
      ]
     },
     "execution_count": 48,
     "metadata": {},
     "output_type": "execute_result"
    }
   ],
   "source": [
    "# Test function compute_CAGR by the first 30 stocks in the list\n",
    "\n",
    "tickers = df['Symbol'].head(30).to_list()\n",
    "compute_CAGR(tickers)"
   ]
  },
  {
   "cell_type": "code",
   "execution_count": null,
   "metadata": {
    "scrolled": false
   },
   "outputs": [],
   "source": [
    "%%time\n",
    "# Compute the CAGR of stocks that are on the market since 2009-01-01\n",
    "\n",
    "# Create an empty list to hold the stock ticker\n",
    "symbol=[]\n",
    "\n",
    "# Create an empty list to hold the CAGR of stocks\n",
    "cagr=[]\n",
    "\n",
    "# Specifiy the start date and end date\n",
    "start_date = \"2009-01-01\"\n",
    "end_date = \"2019-12-31\"\n",
    "\n",
    "for i in tqdm(df['Symbol']):\n",
    "    \n",
    "    try:\n",
    "        stock = acquire.acquire_stock_data(i, 'yahoo', start_date, end_date)  \n",
    "    except (IOError, KeyError):\n",
    "        continue\n",
    "    \n",
    "    if stock.index[0].strftime(\"%Y-%m-%d\") != '2009-01-02':\n",
    "        continue\n",
    "    else:\n",
    "        eb = stock.tail(1).values[0]\n",
    "        bb = stock.head(1).values[0]\n",
    "        stock_cagr = (eb/bb)**(1/11) - 1        \n",
    "        symbol.append(i)\n",
    "        cagr.append(stock_cagr)\n",
    "        \n",
    "        if stock_cagr > 0.142:\n",
    "            print(f\"CAGR of {i}: {stock_cagr: .2%}\")\n",
    "#             print(f\"First date: {stock.index[0]}\")\n",
    "        \n",
    "dic_cagr = {'symbol': symbol, 'CAGR': cagr}\n",
    "df_cagr = pd.DataFrame.from_dict(dic_cagr)\n",
    "df_cagr"
   ]
  },
  {
   "cell_type": "code",
   "execution_count": 192,
   "metadata": {},
   "outputs": [
    {
     "name": "stdout",
     "output_type": "stream",
     "text": [
      "<class 'pandas.core.frame.DataFrame'>\n",
      "RangeIndex: 3017 entries, 0 to 3016\n",
      "Data columns (total 2 columns):\n",
      " #   Column  Non-Null Count  Dtype  \n",
      "---  ------  --------------  -----  \n",
      " 0   symbol  3017 non-null   object \n",
      " 1   CAGR    3015 non-null   float64\n",
      "dtypes: float64(1), object(1)\n",
      "memory usage: 47.3+ KB\n"
     ]
    }
   ],
   "source": [
    "# Print the consice summary of df_cagr\n",
    "df_cagr.info()"
   ]
  },
  {
   "cell_type": "code",
   "execution_count": 199,
   "metadata": {},
   "outputs": [
    {
     "data": {
      "text/html": [
       "<div>\n",
       "<style scoped>\n",
       "    .dataframe tbody tr th:only-of-type {\n",
       "        vertical-align: middle;\n",
       "    }\n",
       "\n",
       "    .dataframe tbody tr th {\n",
       "        vertical-align: top;\n",
       "    }\n",
       "\n",
       "    .dataframe thead th {\n",
       "        text-align: right;\n",
       "    }\n",
       "</style>\n",
       "<table border=\"1\" class=\"dataframe\">\n",
       "  <thead>\n",
       "    <tr style=\"text-align: right;\">\n",
       "      <th></th>\n",
       "      <th>symbol</th>\n",
       "      <th>CAGR</th>\n",
       "    </tr>\n",
       "  </thead>\n",
       "  <tbody>\n",
       "    <tr>\n",
       "      <th>0</th>\n",
       "      <td>A</td>\n",
       "      <td>0.207241</td>\n",
       "    </tr>\n",
       "    <tr>\n",
       "      <th>1</th>\n",
       "      <td>AA</td>\n",
       "      <td>-0.017614</td>\n",
       "    </tr>\n",
       "    <tr>\n",
       "      <th>2</th>\n",
       "      <td>AAIC</td>\n",
       "      <td>0.162729</td>\n",
       "    </tr>\n",
       "    <tr>\n",
       "      <th>3</th>\n",
       "      <td>AAP</td>\n",
       "      <td>0.154051</td>\n",
       "    </tr>\n",
       "    <tr>\n",
       "      <th>4</th>\n",
       "      <td>AB</td>\n",
       "      <td>0.113451</td>\n",
       "    </tr>\n",
       "    <tr>\n",
       "      <th>...</th>\n",
       "      <td>...</td>\n",
       "      <td>...</td>\n",
       "    </tr>\n",
       "    <tr>\n",
       "      <th>3012</th>\n",
       "      <td>WRN</td>\n",
       "      <td>0.136862</td>\n",
       "    </tr>\n",
       "    <tr>\n",
       "      <th>3013</th>\n",
       "      <td>WTT</td>\n",
       "      <td>0.108613</td>\n",
       "    </tr>\n",
       "    <tr>\n",
       "      <th>3014</th>\n",
       "      <td>WWR</td>\n",
       "      <td>-0.506945</td>\n",
       "    </tr>\n",
       "    <tr>\n",
       "      <th>3015</th>\n",
       "      <td>WYY</td>\n",
       "      <td>0.065041</td>\n",
       "    </tr>\n",
       "    <tr>\n",
       "      <th>3016</th>\n",
       "      <td>XPL</td>\n",
       "      <td>-0.133987</td>\n",
       "    </tr>\n",
       "  </tbody>\n",
       "</table>\n",
       "<p>3017 rows × 2 columns</p>\n",
       "</div>"
      ],
      "text/plain": [
       "     symbol      CAGR\n",
       "0         A  0.207241\n",
       "1        AA -0.017614\n",
       "2      AAIC  0.162729\n",
       "3       AAP  0.154051\n",
       "4        AB  0.113451\n",
       "...     ...       ...\n",
       "3012    WRN  0.136862\n",
       "3013    WTT  0.108613\n",
       "3014    WWR -0.506945\n",
       "3015    WYY  0.065041\n",
       "3016    XPL -0.133987\n",
       "\n",
       "[3017 rows x 2 columns]"
      ]
     },
     "execution_count": 199,
     "metadata": {},
     "output_type": "execute_result"
    }
   ],
   "source": [
    "# Inspect df_cagr\n",
    "df_cagr"
   ]
  },
  {
   "cell_type": "markdown",
   "metadata": {},
   "source": [
    "#### What stocks beat SPY on CAGR from 2009-01 to 2019-12?"
   ]
  },
  {
   "cell_type": "code",
   "execution_count": 201,
   "metadata": {},
   "outputs": [
    {
     "data": {
      "text/plain": [
       "1054"
      ]
     },
     "execution_count": 201,
     "metadata": {},
     "output_type": "execute_result"
    }
   ],
   "source": [
    "# Print the number of stocks that beat SPY\n",
    "\n",
    "mask_beat = (df_cagr.CAGR > 0.142)\n",
    "mask_beat.sum()"
   ]
  },
  {
   "cell_type": "code",
   "execution_count": 205,
   "metadata": {},
   "outputs": [
    {
     "data": {
      "text/html": [
       "<div>\n",
       "<style scoped>\n",
       "    .dataframe tbody tr th:only-of-type {\n",
       "        vertical-align: middle;\n",
       "    }\n",
       "\n",
       "    .dataframe tbody tr th {\n",
       "        vertical-align: top;\n",
       "    }\n",
       "\n",
       "    .dataframe thead th {\n",
       "        text-align: right;\n",
       "    }\n",
       "</style>\n",
       "<table border=\"1\" class=\"dataframe\">\n",
       "  <thead>\n",
       "    <tr style=\"text-align: right;\">\n",
       "      <th></th>\n",
       "      <th>symbol</th>\n",
       "      <th>CAGR</th>\n",
       "    </tr>\n",
       "  </thead>\n",
       "  <tbody>\n",
       "    <tr>\n",
       "      <th>312</th>\n",
       "      <td>CSR</td>\n",
       "      <td>0.754994</td>\n",
       "    </tr>\n",
       "    <tr>\n",
       "      <th>2356</th>\n",
       "      <td>NXST</td>\n",
       "      <td>0.613267</td>\n",
       "    </tr>\n",
       "    <tr>\n",
       "      <th>2408</th>\n",
       "      <td>PATK</td>\n",
       "      <td>0.612139</td>\n",
       "    </tr>\n",
       "    <tr>\n",
       "      <th>2610</th>\n",
       "      <td>SNBR</td>\n",
       "      <td>0.610762</td>\n",
       "    </tr>\n",
       "    <tr>\n",
       "      <th>2409</th>\n",
       "      <td>PAYS</td>\n",
       "      <td>0.594315</td>\n",
       "    </tr>\n",
       "    <tr>\n",
       "      <th>1894</th>\n",
       "      <td>EXAS</td>\n",
       "      <td>0.585763</td>\n",
       "    </tr>\n",
       "    <tr>\n",
       "      <th>2940</th>\n",
       "      <td>ISDR</td>\n",
       "      <td>0.558587</td>\n",
       "    </tr>\n",
       "    <tr>\n",
       "      <th>2698</th>\n",
       "      <td>TREE</td>\n",
       "      <td>0.519458</td>\n",
       "    </tr>\n",
       "    <tr>\n",
       "      <th>1845</th>\n",
       "      <td>DXCM</td>\n",
       "      <td>0.488121</td>\n",
       "    </tr>\n",
       "    <tr>\n",
       "      <th>2257</th>\n",
       "      <td>MITK</td>\n",
       "      <td>0.483344</td>\n",
       "    </tr>\n",
       "    <tr>\n",
       "      <th>2319</th>\n",
       "      <td>NFLX</td>\n",
       "      <td>0.482155</td>\n",
       "    </tr>\n",
       "    <tr>\n",
       "      <th>1565</th>\n",
       "      <td>ATSG</td>\n",
       "      <td>0.481887</td>\n",
       "    </tr>\n",
       "    <tr>\n",
       "      <th>2136</th>\n",
       "      <td>JAZZ</td>\n",
       "      <td>0.480029</td>\n",
       "    </tr>\n",
       "    <tr>\n",
       "      <th>2251</th>\n",
       "      <td>MGPI</td>\n",
       "      <td>0.479712</td>\n",
       "    </tr>\n",
       "    <tr>\n",
       "      <th>372</th>\n",
       "      <td>DPZ</td>\n",
       "      <td>0.468043</td>\n",
       "    </tr>\n",
       "    <tr>\n",
       "      <th>2348</th>\n",
       "      <td>NVMI</td>\n",
       "      <td>0.461996</td>\n",
       "    </tr>\n",
       "    <tr>\n",
       "      <th>2459</th>\n",
       "      <td>PPC</td>\n",
       "      <td>0.458770</td>\n",
       "    </tr>\n",
       "    <tr>\n",
       "      <th>2593</th>\n",
       "      <td>SIRI</td>\n",
       "      <td>0.455787</td>\n",
       "    </tr>\n",
       "    <tr>\n",
       "      <th>2214</th>\n",
       "      <td>LULU</td>\n",
       "      <td>0.449792</td>\n",
       "    </tr>\n",
       "    <tr>\n",
       "      <th>2901</th>\n",
       "      <td>EVI</td>\n",
       "      <td>0.449155</td>\n",
       "    </tr>\n",
       "  </tbody>\n",
       "</table>\n",
       "</div>"
      ],
      "text/plain": [
       "     symbol      CAGR\n",
       "312     CSR  0.754994\n",
       "2356   NXST  0.613267\n",
       "2408   PATK  0.612139\n",
       "2610   SNBR  0.610762\n",
       "2409   PAYS  0.594315\n",
       "1894   EXAS  0.585763\n",
       "2940   ISDR  0.558587\n",
       "2698   TREE  0.519458\n",
       "1845   DXCM  0.488121\n",
       "2257   MITK  0.483344\n",
       "2319   NFLX  0.482155\n",
       "1565   ATSG  0.481887\n",
       "2136   JAZZ  0.480029\n",
       "2251   MGPI  0.479712\n",
       "372     DPZ  0.468043\n",
       "2348   NVMI  0.461996\n",
       "2459    PPC  0.458770\n",
       "2593   SIRI  0.455787\n",
       "2214   LULU  0.449792\n",
       "2901    EVI  0.449155"
      ]
     },
     "execution_count": 205,
     "metadata": {},
     "output_type": "execute_result"
    }
   ],
   "source": [
    "# Rank the stocks on CAGR in a descending order\n",
    "\n",
    "stocks_beat = df_cagr[mask_beat]\n",
    "stocks_beat.sort_values(by='CAGR', ascending=False).head(20)"
   ]
  },
  {
   "cell_type": "markdown",
   "metadata": {},
   "source": [
    "**Takeaways**\n",
    "- Two RuntimeWarnings show up during the computation and the messages are the same: invalid value encountered in double_scalars.\n",
    "- 3017 stocks have been in the market since 2009-01-01.\n",
    "- The CAGR field has two missing values.\n",
    "- 1054 stocks beats SPY on CAGR from 2009-01 to 2019-12. "
   ]
  }
 ],
 "metadata": {
  "kernelspec": {
   "display_name": "Python 3",
   "language": "python",
   "name": "python3"
  },
  "language_info": {
   "codemirror_mode": {
    "name": "ipython",
    "version": 3
   },
   "file_extension": ".py",
   "mimetype": "text/x-python",
   "name": "python",
   "nbconvert_exporter": "python",
   "pygments_lexer": "ipython3",
   "version": "3.7.6"
  }
 },
 "nbformat": 4,
 "nbformat_minor": 4
}
